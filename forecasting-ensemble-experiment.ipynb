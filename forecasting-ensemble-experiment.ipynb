{
 "cells": [
  {
   "cell_type": "code",
   "execution_count": null,
   "metadata": {},
   "outputs": [],
   "source": [
    "import pandas as pd\n",
    "pd.set_option('display.float_format', lambda x: '%.3f' % x)\n",
    "import matplotlib\n",
    "%matplotlib inline\n",
    "import matplotlib.pyplot as plt\n",
    "import matplotlib.patches as mpatches\n",
    "from matplotlib.lines import Line2D\n",
    "from matplotlib.patches import Patch\n",
    "import os\n",
    "from itertools import combinations\n",
    "\n",
    "import numpy as np\n",
    "import pickle\n",
    "import data\n",
    "\n",
    "import importlib\n",
    "importlib.reload(data)\n",
    "\n",
    "from data import update_expl_data, update_target_data, food_categories, preprocess_expl\n",
    "from sklearn.metrics import r2_score, mean_absolute_error, mean_squared_error, mean_absolute_percentage_error\n",
    "\n",
    "import json"
   ]
  },
  {
   "cell_type": "code",
   "execution_count": null,
   "metadata": {},
   "outputs": [],
   "source": [
    "\"\"\"\n",
    "Set sample rate. In this notebook, all data will be resampled at the chosen frequency.\n",
    "'MS' : Monthly (Month Start)\n",
    "'W' : Weekly\n",
    "'D' : Daily\n",
    "\"\"\"\n",
    "\n",
    "year_period = {'MS': 12, 'W': 52, 'D': 365}\n",
    "frequency = 'MS'\n",
    "one_year = year_period[frequency]\n",
    "output_path = \"./output/ensemble_TEST/\"\n",
    "if not os.path.exists(output_path):\n",
    "    if not os.path.exists(\"./output\"):\n",
    "        os.mkdir(\"./output\")\n",
    "    os.mkdir(output_path)"
   ]
  },
  {
   "cell_type": "code",
   "execution_count": null,
   "metadata": {},
   "outputs": [],
   "source": [
    "\"\"\"\n",
    "Load food CPI data from January 1986 to the most recently available data.\n",
    "\"\"\"\n",
    "\n",
    "foodprice_categories = pd.read_csv(\"./foodprice_categories.txt\", sep='\\n', header=None)[0].to_list()\n",
    "foodprice_df = pd.read_csv(\"./all_data.csv\", index_col=0)\n",
    "foodprice_df = foodprice_df.set_index(pd.DatetimeIndex(foodprice_df.index))\n",
    "foodprice_df"
   ]
  },
  {
   "cell_type": "code",
   "execution_count": null,
   "metadata": {},
   "outputs": [],
   "source": [
    "all_experiment_names = pd.Series(list(os.walk(\"./output\"))[0][1])\n",
    "all_experiment_names = all_experiment_names[~all_experiment_names.str.contains('ensemble')]\n",
    "all_experiment_names"
   ]
  },
  {
   "cell_type": "code",
   "execution_count": null,
   "metadata": {},
   "outputs": [],
   "source": [
    "experiment_names = all_experiment_names.copy()\n",
    "report_sim_dates = pd.read_csv(\"./reportsimdates.txt\", sep='\\n', header=None)[0].to_list()\n",
    "sim_train_dates = {}\n",
    "sim_valid_dates = {}\n",
    "\n",
    "for date in report_sim_dates:\n",
    "    sim_train_dates[date] = foodprice_df.index[foodprice_df.index <= date]\n",
    "    sim_valid_dates[date] = foodprice_df.index[(foodprice_df.index > date) & (foodprice_df.index <= (pd.to_datetime(date) + pd.DateOffset(months=18)))]"
   ]
  },
  {
   "cell_type": "code",
   "execution_count": null,
   "metadata": {},
   "outputs": [],
   "source": [
    "def rmse(y_true, y_pred):\n",
    "    return np.sqrt(mean_squared_error(y_true, y_pred))\n",
    "\n",
    "metrics = {\n",
    "    'r2_score': r2_score,\n",
    "    'mae': mean_absolute_error,\n",
    "    'mape': mean_absolute_percentage_error,\n",
    "    'mse': mean_squared_error,\n",
    "    'rmse': rmse\n",
    "}"
   ]
  },
  {
   "cell_type": "code",
   "execution_count": null,
   "metadata": {},
   "outputs": [],
   "source": [
    "def get_forecast_df(food_category, experiment_names, experiment_date):\n",
    "\n",
    "    forecasts = []\n",
    "\n",
    "    for ex_name in experiment_names:\n",
    "        fc_df = pd.read_csv(f\"./output/{ex_name}/forecasts_{experiment_date}.csv\")\n",
    "        if \"REF_DATE\" in fc_df.columns:\n",
    "            fc_df = fc_df.set_index(\"REF_DATE\")\n",
    "        else:\n",
    "            fc_df = fc_df.set_index(\"Unnamed: 0\")\n",
    "        fc_df.index = pd.DatetimeIndex(fc_df.index)\n",
    "        fc_series = fc_df[food_category]\n",
    "        fc_series = fc_series.rename(ex_name)\n",
    "        forecasts.append(fc_series)\n",
    "\n",
    "    return pd.concat(forecasts, axis=1)"
   ]
  },
  {
   "cell_type": "code",
   "execution_count": null,
   "metadata": {},
   "outputs": [],
   "source": [
    "get_forecast_df(\"Meat\", experiment_names, \"2017-07-01\")"
   ]
  },
  {
   "cell_type": "code",
   "execution_count": null,
   "metadata": {},
   "outputs": [],
   "source": [
    "def eval_mean_forecast(foodprice_df, food_category, experiment_date, valid_dates):\n",
    "      \n",
    "    valid_series = foodprice_df.loc[valid_dates][food_category]                                 # Select the validation data. \n",
    "    all_forecasts = get_forecast_df(food_category, experiment_names, experiment_date)       # Produce the validation period forecast.\n",
    "    mean_forecast = all_forecasts.mean(axis=1)\n",
    "    std_forecast =  all_forecasts.std(axis=1)\n",
    "\n",
    "    valid_metrics = {metric_name: metric_fn(y_true=valid_series,                        # Compute validation metrics. \n",
    "                                      y_pred=mean_forecast) for metric_name, metric_fn in metrics.items()}\n",
    "\n",
    "    return valid_series, mean_forecast, std_forecast, valid_metrics"
   ]
  },
  {
   "cell_type": "markdown",
   "metadata": {},
   "source": [
    "## Create ensemble with all forecasts and evaluate mean forecasts"
   ]
  },
  {
   "cell_type": "code",
   "execution_count": null,
   "metadata": {},
   "outputs": [],
   "source": [
    "all_valid_metrics = {}\n",
    "all_forecasts = {}\n",
    "\n",
    "for report_sim_date in report_sim_dates:\n",
    "\n",
    "    food_forecasts = {}\n",
    "    food_scores = {}\n",
    "\n",
    "    for category in food_categories:\n",
    "        actual, fc, fc_std, scores = eval_mean_forecast(foodprice_df, category, date, sim_valid_dates[date])\n",
    "        food_scores[category] = scores\n",
    "        food_forecasts[category] = fc\n",
    "        \n",
    "    all_valid_metrics[report_sim_date] = food_scores\n",
    "    all_forecasts[report_sim_date] = food_forecasts"
   ]
  },
  {
   "cell_type": "code",
   "execution_count": null,
   "metadata": {},
   "outputs": [],
   "source": [
    "valid_metrics_concat = {}\n",
    "\n",
    "all_valid_metrics.keys()\n",
    "\n",
    "for report_date, valid_scores in all_valid_metrics.items():\n",
    "    valid_metrics_concat[report_date] = pd.DataFrame(valid_scores).T\n",
    "index = valid_metrics_concat[report_date].index\n",
    "columns = valid_metrics_concat[report_date].columns\n",
    "scores = [df.values for date, df in valid_metrics_concat.items()]\n",
    "mean_scores = pd.DataFrame(np.array(scores).mean(axis=0), index=index, columns=columns)\n",
    "# mean_scores.to_csv(f\"{output_path}/mean_fc_valid_metrics.csv\")\n",
    "mean_scores"
   ]
  },
  {
   "cell_type": "markdown",
   "metadata": {},
   "source": [
    "## Visualize All Forecasts"
   ]
  },
  {
   "cell_type": "code",
   "execution_count": null,
   "metadata": {},
   "outputs": [],
   "source": [
    "food_col_stats = {}\n",
    "\n",
    "for category in food_categories:\n",
    "\n",
    "    fig, ax = plt.subplots(figsize=(12,4))\n",
    "    date_stats = []\n",
    "\n",
    "    for d_index, date in enumerate(report_sim_dates):\n",
    "\n",
    "        all_forecasts = get_forecast_df(category, experiment_names, date)\n",
    "        all_forecasts = all_forecasts.loc[all_forecasts.index >= pd.to_datetime(date) + pd.DateOffset(months=6)]\n",
    "        all_forecasts = all_forecasts.loc[all_forecasts.index < pd.to_datetime(date) + pd.DateOffset(months=18)]\n",
    "        all_forecasts = all_forecasts.assign(ensemble_mean=all_forecasts.mean(axis=1))\n",
    "\n",
    "        ax.scatter(foodprice_df[category].index[-240:], foodprice_df[category].iloc[-240:], color='black', s=1)\n",
    "\n",
    "        col_stats = {}\n",
    "\n",
    "        for index, col in enumerate(all_forecasts):\n",
    "\n",
    "            # Collect some stats\n",
    "            y_pred = all_forecasts[col]\n",
    "            y_true = foodprice_df[category].loc[y_pred.index]\n",
    "            col_stats[col] = y_pred - y_true\n",
    "\n",
    "            if d_index < 1:\n",
    "                ax.plot(all_forecasts[col], color=f\"C{index}\", label=col)\n",
    "            else:\n",
    "                ax.plot(all_forecasts[col], color=f\"C{index}\")\n",
    "\n",
    "        date_stats.append(pd.DataFrame(col_stats))\n",
    "    \n",
    "    food_col_stats[category] = pd.concat(date_stats, axis=0)\n",
    "\n",
    "    plt.title(category)\n",
    "    plt.legend(bbox_to_anchor=(1,1))\n",
    "    plt.grid()\n",
    "    # plt.savefig(f\"./report_output/ensemble_raw_{category}.svg\", bbox_inches='tight')\n",
    "    plt.show()\n"
   ]
  },
  {
   "cell_type": "code",
   "execution_count": null,
   "metadata": {},
   "outputs": [],
   "source": [
    "from scipy.stats import ttest_1samp\n",
    "\n",
    "all_t_stats = []\n",
    "\n",
    "for col in food_col_stats:\n",
    "    for exp_col in food_col_stats[col]:\n",
    "\n",
    "        errors = food_col_stats[col][exp_col].dropna(axis=0).values\n",
    "        t_stat, p_value = ttest_1samp(errors, popmean=0)\n",
    "        # print(col, exp_col, t_stat, p_value)\n",
    "        all_t_stats.append({\"Category\": col, \"Experiment\": exp_col, 't_statistic': t_stat, 'p_value': p_value})"
   ]
  },
  {
   "cell_type": "code",
   "execution_count": null,
   "metadata": {},
   "outputs": [],
   "source": [
    "pd.DataFrame(all_t_stats)"
   ]
  },
  {
   "cell_type": "markdown",
   "metadata": {},
   "source": [
    "## Visualize Mean Forecasts"
   ]
  },
  {
   "cell_type": "code",
   "execution_count": null,
   "metadata": {},
   "outputs": [],
   "source": [
    "for category in food_categories:\n",
    "\n",
    "    fig, ax = plt.subplots(figsize=(12,4))\n",
    "\n",
    "    for d_index, date in enumerate(report_sim_dates):\n",
    "\n",
    "        all_forecasts = get_forecast_df(category, experiment_names, date)\n",
    "        all_forecasts = all_forecasts.loc[all_forecasts.index >= pd.to_datetime(date) + pd.DateOffset(months=6)]\n",
    "        all_forecasts = all_forecasts.loc[all_forecasts.index < pd.to_datetime(date) + pd.DateOffset(months=18)]\n",
    "\n",
    "        forecast_min = np.min(all_forecasts, axis=1) \n",
    "        forecast_10 = np.percentile(all_forecasts, 10, axis=1)\n",
    "        forecast_25 = np.percentile(all_forecasts, 25, axis=1)\n",
    "        forecast_75 = np.percentile(all_forecasts, 75, axis=1)\n",
    "        forecast_90 = np.percentile(all_forecasts, 90, axis=1)\n",
    "        forecast_max = np.max(all_forecasts, axis=1) \n",
    "\n",
    "        if d_index < 1:\n",
    "            # ax.plot(all_forecasts.index, all_forecasts.mean(axis=1), color='red', label='Mean Forecast')\n",
    "            ax.plot(all_forecasts.index, all_forecasts.median(axis=1), color='blue', label='Median Forecast')\n",
    "            ax.fill_between(all_forecasts.index, forecast_min, forecast_max, alpha=0.1, color='purple', label='Forecast Range')\n",
    "            ax.fill_between(all_forecasts.index, forecast_10, forecast_90, alpha=0.3, color='purple', label='90th Percentile')\n",
    "            ax.fill_between(all_forecasts.index, forecast_25, forecast_75, alpha=0.6, color='purple', label='75th Percentile')\n",
    "        else:\n",
    "            # ax.plot(all_forecasts.index, all_forecasts.mean(axis=1), color='red')\n",
    "            ax.plot(all_forecasts.index, all_forecasts.median(axis=1), color='blue')\n",
    "            ax.fill_between(all_forecasts.index, forecast_min, forecast_max, alpha=0.1, color='purple')\n",
    "            ax.fill_between(all_forecasts.index, forecast_10, forecast_90, alpha=0.3, color='purple')\n",
    "            ax.fill_between(all_forecasts.index, forecast_25, forecast_75, alpha=0.6, color='purple')\n",
    "\n",
    "    ax.scatter(foodprice_df[category].index[-120:], foodprice_df[category].iloc[-120:], color='black', s=1, label=\"Actual CPI\")\n",
    "    plt.title(category)\n",
    "    plt.legend(loc='upper left')\n",
    "    plt.grid()\n",
    "    # plt.savefig(f\"./report_output/ensemble_range_{category}.svg\", bbox_inches='tight')\n",
    "    plt.show()\n"
   ]
  },
  {
   "cell_type": "markdown",
   "metadata": {},
   "source": [
    "## Search for the best-validating ensembles per-category over the whole validation period\n",
    "\n",
    "With the multivariate NeuralProphet models, there are now many model configurations to choose from. Which ones should be combined and ensembled? Let's do this in a completely systematic way and find the configuration that validates best. We'll do this separately for each food price category."
   ]
  },
  {
   "cell_type": "code",
   "execution_count": null,
   "metadata": {},
   "outputs": [],
   "source": [
    "all_combinations = []\n",
    "\n",
    "for c_size in range(1, 4):\n",
    "    for exp in combinations(experiment_names, c_size):\n",
    "        all_combinations.append(exp)\n",
    "\n",
    "print(len(all_combinations))"
   ]
  },
  {
   "cell_type": "code",
   "execution_count": null,
   "metadata": {},
   "outputs": [],
   "source": [
    "category_config_scores = {}\n",
    "\n",
    "for category in food_categories:\n",
    "\n",
    "    print(f\"Computing ensemble scores for {category}\")\n",
    "\n",
    "    config_scores = {}\n",
    "    config_stddevs = {}\n",
    "\n",
    "    for config_index, exp_config in enumerate(all_combinations):\n",
    "\n",
    "        if config_index % 100 == 0:\n",
    "            print(f\"Processing config {config_index + 1} of {len(all_combinations)}...\")\n",
    "\n",
    "        valid_date_errors = []\n",
    "\n",
    "        for d_index, date in enumerate(report_sim_dates):\n",
    "\n",
    "            all_forecasts = get_forecast_df(category, exp_config, date)\n",
    "\n",
    "            all_forecasts = all_forecasts.loc[all_forecasts.index >= pd.to_datetime(date) + pd.DateOffset(months=6)]\n",
    "            all_forecasts = all_forecasts.loc[all_forecasts.index < pd.to_datetime(date) + pd.DateOffset(months=18)]\n",
    "\n",
    "            mean_forecast = all_forecasts.mean(axis=1)\n",
    "            actual_cpi = foodprice_df[category][mean_forecast.index]\n",
    "\n",
    "            analysis_df = pd.DataFrame({'y': actual_cpi, 'yhat': mean_forecast})\n",
    "            valid_date_errors.append(mean_absolute_percentage_error(y_true=analysis_df.y, y_pred=analysis_df.yhat))\n",
    "\n",
    "        mean_mape = np.mean(valid_date_errors)\n",
    "        std_mape = np.std(valid_date_errors)\n",
    "        config_scores[str(exp_config)] = mean_mape\n",
    "        config_stddevs[str(exp_config)] = std_mape\n",
    "        \n",
    "    category_config_scores[category] =  pd.DataFrame({'mape': config_scores, 'stddev': config_stddevs})  # pd.Series(config_scores, name='mape').to_frame()"
   ]
  },
  {
   "cell_type": "code",
   "execution_count": null,
   "metadata": {},
   "outputs": [],
   "source": [
    "category_config_scores['Bakery and cereal products (excluding baby food)'].mape.plot(kind='hist', bins=20)"
   ]
  },
  {
   "cell_type": "code",
   "execution_count": null,
   "metadata": {},
   "outputs": [],
   "source": [
    "category_config_scores[\"Meat\"].head(60)"
   ]
  },
  {
   "cell_type": "code",
   "execution_count": null,
   "metadata": {},
   "outputs": [],
   "source": [
    "category_config_scores[\"Vegetables and vegetable preparations\"].sort_values('mape')"
   ]
  },
  {
   "cell_type": "code",
   "execution_count": null,
   "metadata": {},
   "outputs": [],
   "source": [
    "results = {}\n",
    "for category in food_categories:\n",
    "    best_exp_config = category_config_scores[category].idxmin()['mape']\n",
    "    best_exp_config = best_exp_config.replace(\"'\",'').replace(' ', '').strip('()').split(',')\n",
    "    if '' in best_exp_config:\n",
    "        best_exp_config.remove('')\n",
    "    results[category] = best_exp_config\n",
    "    print(f\"{category}\\t{best_exp_config}\\t{category_config_scores[category]['mape'].min()}\\t{category_config_scores[category].sort_values('mape')['stddev'][0]}\")"
   ]
  },
  {
   "cell_type": "code",
   "execution_count": null,
   "metadata": {},
   "outputs": [],
   "source": [
    "results"
   ]
  },
  {
   "cell_type": "code",
   "execution_count": null,
   "metadata": {},
   "outputs": [],
   "source": [
    "scores = {}\n",
    "for food_category in food_categories:\n",
    "    best_index = category_config_scores[food_category].mape.idxmin()\n",
    "    scores[food_category] = category_config_scores[food_category].loc[best_index]"
   ]
  },
  {
   "cell_type": "code",
   "execution_count": null,
   "metadata": {},
   "outputs": [],
   "source": [
    "\"\"\"\n",
    "The following scores provide uncertainty ranges for best ensemble\n",
    "mean forecasts over the simulated report years. For example, if for\n",
    "Meat we observe a mape of 0.026 and stddev of 0.010, we could say\n",
    "that over the last 6 years, this methodology's forecasts had an average\n",
    "error of 2.6% +/- 1.0% standard deviation. Our experiments are designed\n",
    "to select the category-specific model ensemble that would have had the \n",
    "lowest MAPE, on average, if the ensemble had been used over the last 6 years.\n",
    "\"\"\"\n",
    "\n",
    "results_df = pd.DataFrame(scores).T\n",
    "results_df[\"best_config\"] = pd.Series(results, name='best_config')\n",
    "results_df"
   ]
  },
  {
   "cell_type": "markdown",
   "metadata": {},
   "source": [
    "## Save the ensemble configurations to file"
   ]
  },
  {
   "cell_type": "code",
   "execution_count": null,
   "metadata": {},
   "outputs": [],
   "source": [
    "\"\"\"\n",
    "Save ensemble configurations and scores. \n",
    "\"\"\"\n",
    "results_df.to_pickle(f\"{output_path}/ensemble_results.pkl\")"
   ]
  },
  {
   "cell_type": "markdown",
   "metadata": {},
   "source": [
    "## Visualize the best ensemble forecasts per category and collect the best configuration MAPEs"
   ]
  },
  {
   "cell_type": "code",
   "execution_count": null,
   "metadata": {},
   "outputs": [],
   "source": [
    "for category in food_categories:\n",
    "\n",
    "    fig, ax = plt.subplots(figsize=(12,4))\n",
    "    best_exp_config = category_config_scores[category].idxmin()['mape']\n",
    "    best_exp_config = best_exp_config.replace(\"'\",'').replace(' ', '').strip('()').split(',')\n",
    "    best_exp_config = [config for config in best_exp_config if len(config) > 0]\n",
    "\n",
    "    print(category)\n",
    "    print(best_exp_config)\n",
    "    print()\n",
    "\n",
    "    for d_index, date in enumerate(report_sim_dates):\n",
    "\n",
    "        all_forecasts = get_forecast_df(category, best_exp_config, date)\n",
    "        all_forecasts = all_forecasts.loc[all_forecasts.index >= pd.to_datetime(date) + pd.DateOffset(months=6)]\n",
    "        all_forecasts = all_forecasts.loc[all_forecasts.index < pd.to_datetime(date) + pd.DateOffset(months=18)]\n",
    "\n",
    "        forecast_min = np.min(all_forecasts, axis=1) \n",
    "        forecast_std = np.std(all_forecasts, axis=1)\n",
    "        forecast_mean = np.mean(all_forecasts, axis=1)\n",
    "        forecast_max = np.max(all_forecasts, axis=1) \n",
    "\n",
    "        if d_index < 1:\n",
    "            # ax.plot(all_forecasts.index, all_forecasts.mean(axis=1), color='red', label='Mean Forecast')\n",
    "            ax.plot(all_forecasts.index, all_forecasts.mean(axis=1), color='blue', label='Mean Forecast')\n",
    "            ax.fill_between(all_forecasts.index, forecast_min, forecast_max, alpha=0.1, color='purple', label='Forecast Range')\n",
    "            ax.fill_between(all_forecasts.index, forecast_mean - forecast_std, forecast_mean + forecast_std, alpha=0.3, color='purple', label='Std. Dev.')\n",
    "        else:\n",
    "            # ax.plot(all_forecasts.index, all_forecasts.mean(axis=1), color='red')\n",
    "            ax.plot(all_forecasts.index, all_forecasts.mean(axis=1), color='blue')\n",
    "            ax.fill_between(all_forecasts.index, forecast_min, forecast_max, alpha=0.1, color='purple')\n",
    "            ax.fill_between(all_forecasts.index,forecast_mean - forecast_std, forecast_mean + forecast_std, alpha=0.3, color='purple')\n",
    "\n",
    "    ax.scatter(foodprice_df[category].index[-240:], foodprice_df[category].iloc[-240:], color='black', s=1, label=\"Actual CPI\")\n",
    "    plt.title(category)\n",
    "    plt.legend(loc='upper left')\n",
    "    plt.grid()\n",
    "    # plt.savefig(f\"./report_output/ensemble_range_{category}.svg\", bbox_inches='tight')\n",
    "    plt.show()\n"
   ]
  },
  {
   "cell_type": "code",
   "execution_count": null,
   "metadata": {},
   "outputs": [],
   "source": [
    "food_col_stats = {}\n",
    "\n",
    "for category in food_categories:\n",
    "\n",
    "    best_exp_config = category_config_scores[category].idxmin()['mape']\n",
    "    best_exp_config = best_exp_config.replace(\"'\",'').replace(' ', '').strip('()').split(',')\n",
    "    best_exp_config = [config for config in best_exp_config if len(config) > 0]\n",
    "\n",
    "    fig, ax = plt.subplots(figsize=(12,4))\n",
    "    date_stats = []\n",
    "\n",
    "    for d_index, date in enumerate(report_sim_dates):\n",
    "\n",
    "        all_forecasts = get_forecast_df(category, best_exp_config, date)\n",
    "        all_forecasts = all_forecasts.loc[all_forecasts.index >= pd.to_datetime(date) + pd.DateOffset(months=6)]\n",
    "        all_forecasts = all_forecasts.loc[all_forecasts.index < pd.to_datetime(date) + pd.DateOffset(months=18)]\n",
    "        all_forecasts = all_forecasts.assign(ensemble_mean=all_forecasts.mean(axis=1))\n",
    "\n",
    "        ax.scatter(foodprice_df[category].index[-240:], foodprice_df[category].iloc[-240:], color='black', s=1)\n",
    "\n",
    "        col_stats = {}\n",
    "\n",
    "        for index, col in enumerate(all_forecasts):\n",
    "\n",
    "            # Collect some stats\n",
    "            y_pred = all_forecasts[col]\n",
    "            y_true = foodprice_df[category].loc[y_pred.index]\n",
    "            col_stats[col] = y_pred - y_true\n",
    "\n",
    "            if d_index < 1:\n",
    "                ax.plot(all_forecasts[col], color=f\"C{index}\", label=col)\n",
    "            else:\n",
    "                ax.plot(all_forecasts[col], color=f\"C{index}\")\n",
    "\n",
    "        date_stats.append(pd.DataFrame(col_stats))\n",
    "    \n",
    "    food_col_stats[category] = pd.concat(date_stats, axis=0)\n",
    "\n",
    "    plt.title(category)\n",
    "    plt.legend(loc='best')\n",
    "    plt.grid()\n",
    "    # plt.savefig(f\"./report_output/ensemble_raw_{category}.svg\", bbox_inches='tight')\n",
    "    plt.show()\n"
   ]
  }
 ],
 "metadata": {
  "interpreter": {
   "hash": "5dc115152b0502568d09b3fd05412bfa48a7e1af1770d3f43b768dcb47ad23a1"
  },
  "kernelspec": {
   "display_name": "Foodprice Forecasting",
   "language": "python",
   "name": "foodprice_forecasting"
  },
  "language_info": {
   "codemirror_mode": {
    "name": "ipython",
    "version": 3
   },
   "file_extension": ".py",
   "mimetype": "text/x-python",
   "name": "python",
   "nbconvert_exporter": "python",
   "pygments_lexer": "ipython3",
   "version": "3.8.12"
  }
 },
 "nbformat": 4,
 "nbformat_minor": 2
}
