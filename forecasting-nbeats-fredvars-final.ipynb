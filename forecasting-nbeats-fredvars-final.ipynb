{
 "cells": [
  {
   "cell_type": "code",
   "execution_count": null,
   "id": "governmental-sherman",
   "metadata": {
    "executionInfo": {
     "elapsed": 278,
     "status": "ok",
     "timestamp": 1634587049355,
     "user": {
      "displayName": "Ethan Jackson",
      "photoUrl": "https://lh3.googleusercontent.com/a-/AOh14Gj0sN-qIkLWaD3gNaMMx-oLuegd5o3MGlU94qG9IQ=s64",
      "userId": "16234263294244605206"
     },
     "user_tz": 240
    },
    "id": "be47811d-c45c-4945-94b3-4ce5e981ead4"
   },
   "outputs": [],
   "source": [
    "import pandas as pd\n",
    "pd.set_option('precision', 3)\n",
    "import matplotlib.pyplot as plt\n",
    "import matplotlib.patches as mpatches\n",
    "from matplotlib.lines import Line2D\n",
    "from matplotlib.patches import Patch\n",
    "import os\n",
    "import numpy as np\n",
    "\n",
    "from sklearn.metrics import r2_score, mean_absolute_error, mean_squared_error, mean_absolute_percentage_error\n",
    "\n",
    "import mxnet as mx\n",
    "from gluonts.model.n_beats import NBEATSEnsembleEstimator\n",
    "from gluonts.mx import Trainer\n",
    "from gluonts.dataset.common import ListDataset\n",
    "from gluonts.evaluation import make_evaluation_predictions"
   ]
  },
  {
   "cell_type": "code",
   "execution_count": null,
   "id": "understood-period",
   "metadata": {
    "executionInfo": {
     "elapsed": 172,
     "status": "ok",
     "timestamp": 1634576168321,
     "user": {
      "displayName": "Ethan Jackson",
      "photoUrl": "https://lh3.googleusercontent.com/a-/AOh14Gj0sN-qIkLWaD3gNaMMx-oLuegd5o3MGlU94qG9IQ=s64",
      "userId": "16234263294244605206"
     },
     "user_tz": 240
    },
    "id": "a3fd51aa-3046-46a9-af80-7d95c28dd3a3"
   },
   "outputs": [],
   "source": [
    "\"\"\"\n",
    "Set sample rate. In this notebook, all data will be resampled at the chosen frequency.\n",
    "'MS' : Monthly (Month Start)\n",
    "'W' : Weekly\n",
    "'D' : Daily\n",
    "\"\"\"\n",
    "\n",
    "year_period = {'MS': 12, 'W': 52, 'D': 365}\n",
    "frequency = 'MS'\n",
    "one_year = year_period[frequency]\n",
    "output_path = \"./output/nbeatsfredvars_TEST\"\n",
    "if not os.path.exists(output_path):\n",
    "    os.mkdir(output_path)"
   ]
  },
  {
   "cell_type": "markdown",
   "id": "parallel-weight",
   "metadata": {
    "id": "1611d765-10f6-42c1-a137-8ff7f3d0fbed"
   },
   "source": [
    "## Load Data From File"
   ]
  },
  {
   "cell_type": "code",
   "execution_count": null,
   "id": "significant-navigation",
   "metadata": {},
   "outputs": [],
   "source": [
    "foodprice_categories = pd.read_csv(\"./foodprice_categories.txt\", sep='\\n', header=None)[0].to_list()\n",
    "foodprice_df = pd.read_csv(\"./all_data.csv\", index_col=0)\n",
    "foodprice_df = foodprice_df.set_index(pd.DatetimeIndex(foodprice_df.index))\n",
    "foodprice_df"
   ]
  },
  {
   "cell_type": "markdown",
   "id": "included-institution",
   "metadata": {
    "id": "PWe-SYVANSvd"
   },
   "source": [
    "## Fitting and Evaluating a Single NBEATS Model: Example Using All Food Prices"
   ]
  },
  {
   "cell_type": "code",
   "execution_count": null,
   "id": "otherwise-bridges",
   "metadata": {
    "executionInfo": {
     "elapsed": 196,
     "status": "ok",
     "timestamp": 1634582508764,
     "user": {
      "displayName": "Ethan Jackson",
      "photoUrl": "https://lh3.googleusercontent.com/a-/AOh14Gj0sN-qIkLWaD3gNaMMx-oLuegd5o3MGlU94qG9IQ=s64",
      "userId": "16234263294244605206"
     },
     "user_tz": 240
    },
    "id": "Rv4cgTHURKhb"
   },
   "outputs": [],
   "source": [
    "N = foodprice_df.shape[1]\n",
    "T = foodprice_df.shape[0]\n",
    "prediction_length = 18\n",
    "freq = \"MS\"\n",
    "dataset = foodprice_df.T.values\n",
    "start = pd.Timestamp(\"2016-07-01\")"
   ]
  },
  {
   "cell_type": "code",
   "execution_count": null,
   "id": "excessive-wisconsin",
   "metadata": {
    "colab": {
     "base_uri": "https://localhost:8080/",
     "height": 763
    },
    "executionInfo": {
     "elapsed": 235,
     "status": "ok",
     "timestamp": 1634582516688,
     "user": {
      "displayName": "Ethan Jackson",
      "photoUrl": "https://lh3.googleusercontent.com/a-/AOh14Gj0sN-qIkLWaD3gNaMMx-oLuegd5o3MGlU94qG9IQ=s64",
      "userId": "16234263294244605206"
     },
     "user_tz": 240
    },
    "id": "rnXtQCgEs2H3",
    "outputId": "1feeb6df-76e5-4c1d-ff6f-da615ab3a158"
   },
   "outputs": [],
   "source": [
    "dataset_df = foodprice_df.T\n",
    "dataset_df"
   ]
  },
  {
   "cell_type": "markdown",
   "id": "married-tennis",
   "metadata": {
    "id": "iS8A4GYWYgeS"
   },
   "source": [
    "## Fit Models Using All Data To Produce Final Forecast"
   ]
  },
  {
   "cell_type": "code",
   "execution_count": null,
   "id": "persistent-bailey",
   "metadata": {},
   "outputs": [],
   "source": [
    "cutoff_date = foodprice_df.index[-1]  # Select the most recent date available.\n",
    "prediction_length = 18\n",
    "\n",
    "train_dates = foodprice_df.loc[foodprice_df.index <= cutoff_date].index\n",
    "\n",
    "train_ds = ListDataset(\n",
    "    [{'target': x, 'start': train_dates[0]} for x in dataset_df[list(train_dates)].values],\n",
    "    freq='MS'\n",
    ")\n",
    "\n",
    "# Note: We need to add empty forecast dates since make_evaluation_predictions will cut off prediction_length many entries.\n",
    "forecast_dates = pd.date_range(pd.to_datetime(cutoff_date) + pd.DateOffset(months=1), pd.to_datetime(cutoff_date) + pd.DateOffset(months=prediction_length), freq='MS')\n",
    "\n",
    "extra_series = []\n",
    "for date in forecast_dates:\n",
    "    extra_series.append(pd.Series(np.zeros_like(dataset_df.index), name=date, index=dataset_df.index))\n",
    "\n",
    "forecast_df = dataset_df.join(extra_series)\n",
    "\n",
    "forecast_ds = ListDataset(\n",
    "    [{'target': x, 'start': train_dates[0]} for x in forecast_df[list(train_dates) + list(forecast_dates)].values],\n",
    "    freq='MS'\n",
    ")\n",
    "\n",
    "estimator = NBEATSEnsembleEstimator(\n",
    "    prediction_length=prediction_length,\n",
    "    meta_bagging_size = 3, \n",
    "    meta_context_length = [prediction_length * m for m in [3,5,7]], \n",
    "    meta_loss_function = ['sMAPE'], \n",
    "    num_stacks = 30,\n",
    "    widths= [512],\n",
    "    freq=\"MS\",\n",
    "    trainer=Trainer(\n",
    "                epochs=100,\n",
    "                num_batches_per_epoch=200,\n",
    "                ctx=mx.context.cpu()\n",
    "            )\n",
    "\n",
    ")\n",
    "\n",
    "predictor = estimator.train(train_ds)\n",
    "\n",
    "forecast_it, ts_it = make_evaluation_predictions(\n",
    "    dataset=forecast_ds,  # train dataset\n",
    "    predictor=predictor,  # predictor\n",
    ")\n",
    "\n",
    "forecasts = list(forecast_it)\n",
    "\n",
    "all_food_metrics = {}\n",
    "food_forecasts = {}\n",
    "\n",
    "for target_index in range(len(forecasts)):\n",
    "\n",
    "    # Get food price category\n",
    "    foodprice_category = foodprice_df.columns[target_index]\n",
    "\n",
    "    if foodprice_category not in foodprice_categories:\n",
    "        continue\n",
    "\n",
    "    # plot actual\n",
    "    fig, ax = plt.subplots(figsize=(8,3))\n",
    "    ax.plot(train_dates, foodprice_df[foodprice_category][train_dates], color='black')\n",
    "\n",
    "    # plot forecast\n",
    "    forecast_entry = forecasts[target_index]\n",
    "    ax.plot(forecast_dates, forecast_entry.mean[:len(forecast_dates)], color='C0')\n",
    "\n",
    "    plt.title(f\"{foodprice_category}, October 2021 Forecast\")\n",
    "    plt.grid()\n",
    "    plt.show()\n",
    "\n",
    "    food_forecasts[foodprice_category] = pd.Series(forecast_entry.mean, index=forecast_dates, name=foodprice_category)\n",
    "\n",
    "all_forecasts = pd.DataFrame(food_forecasts)\n",
    "all_forecasts.to_csv(f\"{output_path}/fc_final.csv\")"
   ]
  }
 ],
 "metadata": {
  "accelerator": "GPU",
  "colab": {
   "collapsed_sections": [],
   "name": "forecasting-nbeats.ipynb",
   "provenance": [
    {
     "file_id": "13Kkg9losPuncpwDUvLml777Pax3pP2FG",
     "timestamp": 1634321819792
    }
   ]
  },
  "interpreter": {
   "hash": "5dc115152b0502568d09b3fd05412bfa48a7e1af1770d3f43b768dcb47ad23a1"
  },
  "kernelspec": {
   "display_name": "Python 3 (ipykernel)",
   "language": "python",
   "name": "python3"
  },
  "language_info": {
   "codemirror_mode": {
    "name": "ipython",
    "version": 3
   },
   "file_extension": ".py",
   "mimetype": "text/x-python",
   "name": "python",
   "nbconvert_exporter": "python",
   "pygments_lexer": "ipython3",
   "version": "3.8.0"
  }
 },
 "nbformat": 4,
 "nbformat_minor": 5
}
