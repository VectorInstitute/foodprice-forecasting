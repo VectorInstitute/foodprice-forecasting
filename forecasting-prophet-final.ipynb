{
 "cells": [
  {
   "cell_type": "code",
   "execution_count": null,
   "id": "incident-seeker",
   "metadata": {
    "executionInfo": {
     "elapsed": 290,
     "status": "ok",
     "timestamp": 1634322459168,
     "user": {
      "displayName": "Ethan Jackson",
      "photoUrl": "https://lh3.googleusercontent.com/a-/AOh14Gj0sN-qIkLWaD3gNaMMx-oLuegd5o3MGlU94qG9IQ=s64",
      "userId": "16234263294244605206"
     },
     "user_tz": 240
    },
    "id": "be47811d-c45c-4945-94b3-4ce5e981ead4"
   },
   "outputs": [],
   "source": [
    "from prophet import Prophet\n",
    "import pandas as pd\n",
    "pd.set_option('precision', 3)\n",
    "\n",
    "import matplotlib.pyplot as plt\n",
    "import matplotlib.patches as mpatches\n",
    "from matplotlib.lines import Line2D\n",
    "\n",
    "import os"
   ]
  },
  {
   "cell_type": "code",
   "execution_count": null,
   "id": "single-spencer",
   "metadata": {
    "executionInfo": {
     "elapsed": 279,
     "status": "ok",
     "timestamp": 1634321479295,
     "user": {
      "displayName": "Ethan Jackson",
      "photoUrl": "https://lh3.googleusercontent.com/a-/AOh14Gj0sN-qIkLWaD3gNaMMx-oLuegd5o3MGlU94qG9IQ=s64",
      "userId": "16234263294244605206"
     },
     "user_tz": 240
    },
    "id": "a3fd51aa-3046-46a9-af80-7d95c28dd3a3"
   },
   "outputs": [],
   "source": [
    "\"\"\"\n",
    "Set sample rate. In this notebook, all data will be resampled at the chosen frequency.\n",
    "'MS' : Monthly (Month Start)\n",
    "'W' : Weekly\n",
    "'D' : Daily\n",
    "\"\"\"\n",
    "\n",
    "year_period = {'MS': 12, 'W': 52, 'D': 365}\n",
    "frequency = 'MS'\n",
    "one_year = year_period[frequency]\n",
    "output_path = \"./output/prophet_TEST\"\n",
    "if not os.path.exists(output_path):\n",
    "    if not os.path.exists(\"./output\"):\n",
    "        os.mkdir(\"./output\")\n",
    "    os.mkdir(output_path)"
   ]
  },
  {
   "cell_type": "markdown",
   "id": "aggressive-metropolitan",
   "metadata": {
    "id": "1611d765-10f6-42c1-a137-8ff7f3d0fbed"
   },
   "source": [
    "## Load Data From Files"
   ]
  },
  {
   "cell_type": "code",
   "execution_count": null,
   "id": "dominican-lighting",
   "metadata": {},
   "outputs": [],
   "source": [
    "foodprice_categories = pd.read_csv(\"./foodprice_categories.txt\", sep='\\n', header=None)[0].to_list()\n",
    "foodprice_df = pd.read_csv(\"./all_data.csv\", index_col=0)\n",
    "foodprice_df = foodprice_df.set_index(pd.DatetimeIndex(foodprice_df.index))\n",
    "foodprice_df"
   ]
  },
  {
   "cell_type": "markdown",
   "id": "laughing-garbage",
   "metadata": {
    "id": "iS8A4GYWYgeS"
   },
   "source": [
    "## Fit Models Using All Data To Produce Final Forecast"
   ]
  },
  {
   "cell_type": "code",
   "execution_count": null,
   "id": "isolated-insider",
   "metadata": {
    "executionInfo": {
     "elapsed": 265,
     "status": "ok",
     "timestamp": 1634322523944,
     "user": {
      "displayName": "Ethan Jackson",
      "photoUrl": "https://lh3.googleusercontent.com/a-/AOh14Gj0sN-qIkLWaD3gNaMMx-oLuegd5o3MGlU94qG9IQ=s64",
      "userId": "16234263294244605206"
     },
     "user_tz": 240
    },
    "id": "S7sUnVlLYoXm"
   },
   "outputs": [],
   "source": [
    "def get_prophet_df(foodprice_df, food_category, dates):\n",
    "    df = foodprice_df[food_category][dates]\n",
    "    df = df.reset_index()\n",
    "    df = df.rename({'REF_DATE':'ds', 'index':'ds', food_category:'y'}, axis=1)\n",
    "    return df\n",
    "\n",
    "def fit_final_forecast_model(foodprice_df, food_category, all_dates):\n",
    "    train_df = get_prophet_df(foodprice_df, food_category, all_dates)       # Select data.\n",
    "    model = Prophet()                                                       # Initialize model with (default) paramters.\n",
    "    model.fit(train_df)                                                     # Fit the model.\n",
    "    future = model.make_future_dataframe(periods=18, freq='MS')             # Create the future period. \n",
    "    forecast = model.predict(future.iloc[-18:])                             # Produce the future period forecast. \n",
    "    historical_fit = model.predict(future.iloc[:-18])                       # Look at how well the model fits the data.\n",
    "    return model, forecast, historical_fit"
   ]
  },
  {
   "cell_type": "code",
   "execution_count": null,
   "id": "fantastic-andorra",
   "metadata": {
    "executionInfo": {
     "elapsed": 4,
     "status": "ok",
     "timestamp": 1634322526859,
     "user": {
      "displayName": "Ethan Jackson",
      "photoUrl": "https://lh3.googleusercontent.com/a-/AOh14Gj0sN-qIkLWaD3gNaMMx-oLuegd5o3MGlU94qG9IQ=s64",
      "userId": "16234263294244605206"
     },
     "user_tz": 240
    },
    "id": "FnxExPlhZTM1"
   },
   "outputs": [],
   "source": [
    "def plot_final_forecast(model, forecast, historical_fit):\n",
    "\n",
    "    fig = model.plot(forecast, figsize=(10,4))\n",
    "    ax = fig.axes[0]\n",
    "\n",
    "    ax.plot(historical_fit.ds, historical_fit.yhat, alpha=0.5, color='purple', label='Historical Model Fit')\n",
    "    ax.fill_between(historical_fit.ds, historical_fit.yhat_lower, historical_fit.yhat_upper, \n",
    "                    alpha=0.2, color='purple', label='Historical Model Fit Uncertainty')\n",
    "    ax.set_title(f'CPI Forecast - {food_category}')\n",
    "    ax.set_ylabel('CPI (% of 2002 Baseline)')\n",
    "    ax.set_xlabel('Date')\n",
    "\n",
    "    ### Creating legend elements\n",
    "    cmap = plt.get_cmap(\"tab10\")\n",
    "    handles, labels = ax.get_legend_handles_labels()\n",
    "    actual_patch = Line2D([0], [0], color='w', markerfacecolor='black', marker='o', label='Historical CPI')\n",
    "    fc_patch = mpatches.Patch(color=cmap(0), label='Predicted CPI Uncertainty', alpha=0.5)\n",
    "    fc_line = Line2D([0], [0], color=cmap(0), label='Predicted CPI')\n",
    "    handles.append(actual_patch)\n",
    "    handles.append(fc_line)\n",
    "    handles.append(fc_patch)\n",
    "    ax.legend(handles=handles)\n",
    "    plt.savefig(f\"{output_path}/fc_final_{food_category}.svg\", bbox_inches='tight')\n",
    "    plt.savefig(f\"{output_path}/fc_final_{food_category}.png\", bbox_inches='tight')\n",
    "    plt.show()"
   ]
  },
  {
   "cell_type": "code",
   "execution_count": null,
   "id": "generic-classics",
   "metadata": {
    "colab": {
     "base_uri": "https://localhost:8080/",
     "height": 1000
    },
    "executionInfo": {
     "elapsed": 66564,
     "status": "ok",
     "timestamp": 1634322599456,
     "user": {
      "displayName": "Ethan Jackson",
      "photoUrl": "https://lh3.googleusercontent.com/a-/AOh14Gj0sN-qIkLWaD3gNaMMx-oLuegd5o3MGlU94qG9IQ=s64",
      "userId": "16234263294244605206"
     },
     "user_tz": 240
    },
    "id": "YhZJPR3nZe-s",
    "outputId": "4ced6524-842f-431f-d661-6c895c6e3b31"
   },
   "outputs": [],
   "source": [
    "all_forecasts = {}\n",
    "\n",
    "for food_category in foodprice_categories:\n",
    "\n",
    "    model, forecast, historical_fit = fit_final_forecast_model(foodprice_df, food_category, all_dates=foodprice_df.index)\n",
    "    plot_final_forecast(model, forecast, historical_fit)\n",
    "    # forecast.to_csv(f\"{output_path}/fc_final_{food_category}.csv\")\n",
    "    all_forecasts[food_category] = forecast"
   ]
  },
  {
   "cell_type": "markdown",
   "id": "radio-consistency",
   "metadata": {},
   "source": [
    "## Save final forecasts to file. "
   ]
  },
  {
   "cell_type": "code",
   "execution_count": null,
   "id": "worth-departure",
   "metadata": {},
   "outputs": [],
   "source": [
    "all_forecasts_yhat = {}\n",
    "\n",
    "for food_category, forecast_df in all_forecasts.items():\n",
    "    all_forecasts_yhat[food_category] = forecast_df.yhat\n",
    "    all_forecasts_yhat[food_category].index = pd.DatetimeIndex(forecast_df.ds)\n",
    "\n",
    "final_forecast_df = pd.DataFrame(all_forecasts_yhat)\n",
    "final_forecast_df.to_csv(f\"{output_path}/fc_final.csv\")\n",
    "final_forecast_df"
   ]
  }
 ],
 "metadata": {
  "colab": {
   "collapsed_sections": [],
   "name": "forecasting-prophet.ipynb",
   "provenance": []
  },
  "interpreter": {
   "hash": "d7359b97dda1a7a8948a5a4d396848125c7f44b4c1a886dc629ec440a49e68ef"
  },
  "kernelspec": {
   "display_name": "Foodprice Forecasting",
   "language": "python",
   "name": "foodprice_forecasting"
  },
  "language_info": {
   "codemirror_mode": {
    "name": "ipython",
    "version": 3
   },
   "file_extension": ".py",
   "mimetype": "text/x-python",
   "name": "python",
   "nbconvert_exporter": "python",
   "pygments_lexer": "ipython3",
   "version": "3.8.12"
  }
 },
 "nbformat": 4,
 "nbformat_minor": 5
}
