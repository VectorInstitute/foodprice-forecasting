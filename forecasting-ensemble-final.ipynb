{
 "cells": [
  {
   "cell_type": "code",
   "execution_count": null,
   "metadata": {},
   "outputs": [],
   "source": [
    "import pandas as pd\n",
    "pd.set_option('display.float_format', lambda x: '%.3f' % x)\n",
    "import matplotlib\n",
    "%matplotlib inline\n",
    "import matplotlib.pyplot as plt\n",
    "import matplotlib.patches as mpatches\n",
    "from matplotlib.lines import Line2D\n",
    "from matplotlib.patches import Patch\n",
    "import os\n",
    "from itertools import combinations\n",
    "\n",
    "import numpy as np\n",
    "import pickle\n",
    "import data\n",
    "\n",
    "import importlib\n",
    "importlib.reload(data)\n",
    "\n",
    "from data import update_expl_data, update_target_data, food_categories, preprocess_expl\n",
    "from sklearn.metrics import r2_score, mean_absolute_error, mean_squared_error, mean_absolute_percentage_error\n",
    "import json"
   ]
  },
  {
   "cell_type": "code",
   "execution_count": null,
   "metadata": {},
   "outputs": [],
   "source": [
    "\"\"\"\n",
    "Set sample rate. In this notebook, all data will be resampled at the chosen frequency.\n",
    "'MS' : Monthly (Month Start)\n",
    "'W' : Weekly\n",
    "'D' : Daily\n",
    "\"\"\"\n",
    "\n",
    "year_period = {'MS': 12, 'W': 52, 'D': 365}\n",
    "frequency = 'MS'\n",
    "one_year = year_period[frequency]\n",
    "output_path = \"./output/ensemble_TEST\"\n",
    "if not os.path.exists(output_path):\n",
    "    if not os.path.exists(\"./output\"):\n",
    "        os.mkdir(\"./output\")\n",
    "    os.mkdir(output_path)\n",
    "    \n",
    "neural_prophet_data_dir = \"neuralprophet_final_forecasts_TEST\"\n",
    "neural_prophet_exp_name = \"neuralprophet_TEST\""
   ]
  },
  {
   "cell_type": "markdown",
   "metadata": {},
   "source": [
    "## Load Data From File"
   ]
  },
  {
   "cell_type": "code",
   "execution_count": null,
   "metadata": {},
   "outputs": [],
   "source": [
    "foodprice_categories = pd.read_csv(\"./foodprice_categories.txt\", sep='\\n', header=None)[0].to_list()\n",
    "foodprice_df = pd.read_csv(\"./all_data.csv\", index_col=0)\n",
    "foodprice_df = foodprice_df.set_index(pd.DatetimeIndex(foodprice_df.index))\n",
    "foodprice_df = foodprice_df[foodprice_categories]\n",
    "foodprice_df"
   ]
  },
  {
   "cell_type": "code",
   "execution_count": null,
   "metadata": {},
   "outputs": [],
   "source": [
    "\"\"\"\n",
    "Load ensemble configurations and scores. \n",
    "\"\"\"\n",
    "\n",
    "results_df = pd.read_pickle(f\"{output_path}/ensemble_results.pkl\")\n",
    "results_df"
   ]
  },
  {
   "cell_type": "markdown",
   "metadata": {},
   "source": [
    "## Final forecast"
   ]
  },
  {
   "cell_type": "code",
   "execution_count": null,
   "metadata": {},
   "outputs": [],
   "source": [
    "def get_final_forecast_ensemble(food_category, results_dict):\n",
    "\n",
    "    forecasts = []\n",
    "    exp_results = results_dict[food_category]\n",
    "    for exp_name in exp_results:\n",
    "        if exp_name.startswith('neuralprophet'):\n",
    "#             full_exp_name = f\"{food_category}_{exp_name}\".replace(f\"_{neural_prophet_exp_name}_\", '_')\n",
    "            full_exp_name = f\"{food_category}_{exp_name}\"\n",
    "            file_exp_name = f\"{food_category}_{exp_name}\".replace(f\"_{neural_prophet_exp_name}_\", '_')\n",
    "            fc_df = pd.read_csv(f\"./output/{neural_prophet_data_dir}/{file_exp_name}/fc_final.csv\")\n",
    "        else:\n",
    "            full_exp_name = exp_name\n",
    "            fc_df = pd.read_csv(f\"./output/{full_exp_name}/fc_final.csv\")\n",
    "        full_exp_name = full_exp_name.replace(f\"{food_category}_\", '')\n",
    "        if \"REF_DATE\" in fc_df.columns:\n",
    "            fc_df = fc_df.set_index(\"REF_DATE\")\n",
    "        elif \"Unnamed: 0\" in fc_df.columns:\n",
    "            fc_df = fc_df.set_index(\"Unnamed: 0\")\n",
    "        elif \"ds\" in fc_df.columns:\n",
    "            fc_df = fc_df.set_index(\"ds\")\n",
    "        fc_df.index = pd.DatetimeIndex(fc_df.index)\n",
    "        fc_series = fc_df[food_category]\n",
    "        fc_series = fc_series.rename(full_exp_name)\n",
    "        print(full_exp_name)\n",
    "        forecasts.append(fc_series)\n",
    "    \n",
    "    return pd.concat(forecasts, axis=1)\n"
   ]
  },
  {
   "cell_type": "code",
   "execution_count": null,
   "metadata": {},
   "outputs": [],
   "source": [
    "results = results_df[\"best_config\"].to_dict()\n",
    "results"
   ]
  },
  {
   "cell_type": "code",
   "execution_count": null,
   "metadata": {},
   "outputs": [],
   "source": [
    "def get_final_forecast_df(food_category, experiment_names):\n",
    "\n",
    "    forecasts = []\n",
    "\n",
    "    for ex_name in experiment_names:\n",
    "        print(ex_name)\n",
    "        \n",
    "        if ex_name.startswith('neuralprophet'):\n",
    "            full_exp_name = f\"{food_category}_{ex_name}\"\n",
    "            file_exp_name = f\"{food_category}_{ex_name}\".replace(f\"_{neural_prophet_exp_name}_\", '_')\n",
    "            fc_df = pd.read_csv(f\"./output/{neural_prophet_data_dir}/{file_exp_name}/fc_final.csv\")\n",
    "        else:\n",
    "            fc_df = pd.read_csv(f\"./output/{ex_name}/fc_final.csv\")\n",
    "        if \"REF_DATE\" in fc_df.columns:\n",
    "            fc_df = fc_df.set_index(\"REF_DATE\")\n",
    "        elif \"Unnamed: 0\" in fc_df.columns:\n",
    "            fc_df = fc_df.set_index(\"Unnamed: 0\")\n",
    "        elif \"ds\" in fc_df.columns:\n",
    "            fc_df = fc_df.set_index(\"ds\")\n",
    "        fc_df.index = pd.DatetimeIndex(fc_df.index)\n",
    "        fc_series = fc_df[food_category]\n",
    "        fc_series = fc_series.rename(ex_name)\n",
    "        forecasts.append(fc_series)\n",
    "\n",
    "    return pd.concat(forecasts, axis=1)"
   ]
  },
  {
   "cell_type": "code",
   "execution_count": null,
   "metadata": {},
   "outputs": [],
   "source": [
    "for category in food_categories:\n",
    "\n",
    "    fig, ax = plt.subplots(figsize=(12,4))\n",
    "    final_forecasts_df = get_final_forecast_ensemble(category, results)\n",
    "    final_forecasts_df = final_forecasts_df.loc[final_forecasts_df.index < \"2023-01-01\"]\n",
    "\n",
    "    for index, col in enumerate(final_forecasts_df):\n",
    "        ax.plot(final_forecasts_df[col], color=f\"C{index}\", label=col)\n",
    "\n",
    "    ax.plot(final_forecasts_df.mean(axis=1), color=\"purple\", label=\"Mean Forecast\", lw=3)\n",
    "    ax.scatter(foodprice_df[category].index[-120:], foodprice_df[category].iloc[-120:], color='black', s=1, label='Historical CPI')\n",
    "\n",
    "    plt.title(category)\n",
    "    plt.legend()\n",
    "    plt.grid()\n",
    "#     plt.savefig(f\"./report_output/ensemble_forecast_raw_{category}.svg\", bbox_inches='tight')\n",
    "    plt.show()\n",
    "    \n"
   ]
  },
  {
   "cell_type": "code",
   "execution_count": null,
   "metadata": {},
   "outputs": [],
   "source": [
    "for category in food_categories:\n",
    "\n",
    "    fig, ax = plt.subplots(figsize=(12,4))\n",
    "    final_forecasts_df = get_final_forecast_ensemble(category, results)\n",
    "    final_forecasts_df = final_forecasts_df.loc[final_forecasts_df.index < \"2023-01-01\"]\n",
    "\n",
    "    ax.plot(final_forecasts_df.mean(axis=1), color=\"purple\", label=\"Mean Forecast\")\n",
    "    ax.fill_between(final_forecasts_df.mean(axis=1).index, final_forecasts_df.min(axis=1), final_forecasts_df.max(axis=1), color=\"purple\", alpha=0.2, label='Forecast Range')\n",
    "    ax.scatter(foodprice_df[category].index[-120:], foodprice_df[category].iloc[-120:], color='black', s=2, label='Historical CPI')\n",
    "\n",
    "    plt.title(category)\n",
    "    plt.legend(loc='upper left')\n",
    "    plt.grid()\n",
    "    # plt.savefig(f\"./report_output/ensemble_forecast_{category}.svg\", bbox_inches='tight')\n",
    "    plt.show()\n"
   ]
  },
  {
   "cell_type": "markdown",
   "metadata": {},
   "source": [
    "## Forecast as Predicted Percent Change\n",
    "\n",
    "Below we compute the expected change in CPI for 2022, relative to mean CPIs in 2021 so far. "
   ]
  },
  {
   "cell_type": "code",
   "execution_count": null,
   "metadata": {},
   "outputs": [],
   "source": [
    "food_forecast_stats = {}\n",
    "food_forecast_change_stats = {}\n",
    "\n",
    "for category in food_categories:\n",
    "\n",
    "    forecast_stats = {}\n",
    "    forecast_change_stats = {}\n",
    "\n",
    "    final_forecasts_df = get_final_forecast_ensemble(category, results)\n",
    "    final_forecasts_df = final_forecasts_df.loc[final_forecasts_df.index < \"2023-01-01\"]\n",
    "    historical_cpi = foodprice_df[category]\n",
    "    \n",
    "    fc_min = final_forecasts_df.min(axis=1)\n",
    "    fc_mean = final_forecasts_df.mean(axis=1)\n",
    "    fc_max = final_forecasts_df.max(axis=1)\n",
    "\n",
    "    forecast_stats['min'] = historical_cpi.append(fc_min)\n",
    "    forecast_stats['mean'] = historical_cpi.append(fc_mean)\n",
    "    forecast_stats['max'] = historical_cpi.append(fc_max)\n",
    "\n",
    "    food_forecast_stats[category] = pd.DataFrame(forecast_stats)\n",
    "    food_forecast_stats[category] = food_forecast_stats[category].loc[food_forecast_stats[category].index < \"2023-01-01\"]\n",
    "\n",
    "    fc_stats = food_forecast_stats[category].iloc[-12:]\n",
    "    historical_data = foodprice_df[category].iloc[-9:]\n",
    "\n",
    "    forecast_change_stats['2021_mean'] = historical_data.mean()\n",
    "    forecast_change_stats['2021_max'] = historical_data.max()\n",
    "    forecast_change_stats['2022_fc_min'] = fc_stats.min().min() \n",
    "    forecast_change_stats['2022_fc_mean'] = fc_stats.mean().mean()\n",
    "    forecast_change_stats['2022_fc_max'] = fc_stats.max().max()\n",
    "\n",
    "    food_forecast_change_stats[category] = pd.Series(forecast_change_stats)\n"
   ]
  },
  {
   "cell_type": "code",
   "execution_count": null,
   "metadata": {},
   "outputs": [],
   "source": [
    "pd.set_option('display.float_format', lambda x: '%.1f' % x)\n",
    "results_df = pd.DataFrame(food_forecast_change_stats).T\n",
    "results_df"
   ]
  },
  {
   "cell_type": "code",
   "execution_count": null,
   "metadata": {},
   "outputs": [],
   "source": [
    "results_df[['2021_mean', '2022_fc_mean']]"
   ]
  },
  {
   "cell_type": "code",
   "execution_count": null,
   "metadata": {},
   "outputs": [],
   "source": [
    "## percent change formula from Jim\n",
    "# P1 = P_0*CPI_1/100 and P2 = P_0*CPI_2/100\n",
    "\n",
    "p1 = results_df['2021_mean']\n",
    "p2 = results_df['2022_fc_mean']\n",
    "\n",
    "(((p2-p1) / p1) * 100).to_frame()\n"
   ]
  },
  {
   "cell_type": "code",
   "execution_count": null,
   "metadata": {},
   "outputs": [],
   "source": [
    "## percent change formula from Jim\n",
    "# P1 = P_0*CPI_1/100 and P2 = P_0*CPI_2/100\n",
    "\n",
    "p1 = results_df['2021_max']\n",
    "p2 = results_df['2022_fc_max']\n",
    "\n",
    "(((p2-p1) / p1) * 100).to_frame()\n"
   ]
  },
  {
   "cell_type": "code",
   "execution_count": null,
   "metadata": {},
   "outputs": [],
   "source": [
    "## Actual percent change from 2020 to 2021 (Up to September, 2021)\n",
    "\n",
    "p1 = foodprice_df.loc[foodprice_df.index < \"2021-01-01\"]\n",
    "p1 = p1.loc[p1.index >= \"2020-01-01\"]\n",
    "p1 = p1.mean(axis=0).rename(\"2020 Mean CPI\")\n",
    "\n",
    "p2 = foodprice_df.loc[foodprice_df.index < \"2022-01-01\"]\n",
    "p2 = p2.loc[p2.index >= \"2021-01-01\"]\n",
    "p2 = p2.mean(axis=0).rename(\"2021 Mean CPI\")\n",
    "\n",
    "result = (((p2-p1) / p1) * 100).rename(\"Percent Change\")\n",
    "pd.concat((p1, p2, result), axis=1)"
   ]
  },
  {
   "cell_type": "code",
   "execution_count": null,
   "metadata": {},
   "outputs": [],
   "source": [
    "pct_change_from_mean_results = {}\n",
    "pct_change_from_max_results = {}\n",
    "\n",
    "for col in ['2022_fc_min', '2022_fc_mean', '2022_fc_max']:\n",
    "    change = results_df[[\"2021_mean\", col]].T.pct_change(1)\n",
    "    pct_change_from_mean_results[col] = change.T[col]\n",
    "    change = results_df[[\"2021_max\", col]].T.pct_change(1)\n",
    "    pct_change_from_max_results[col] = change.T[col]"
   ]
  },
  {
   "cell_type": "code",
   "execution_count": null,
   "metadata": {},
   "outputs": [],
   "source": [
    "pd.DataFrame(pct_change_from_mean_results)* 100"
   ]
  },
  {
   "cell_type": "code",
   "execution_count": null,
   "metadata": {},
   "outputs": [],
   "source": [
    "pd.DataFrame(pct_change_from_max_results)"
   ]
  }
 ],
 "metadata": {
  "interpreter": {
   "hash": "5dc115152b0502568d09b3fd05412bfa48a7e1af1770d3f43b768dcb47ad23a1"
  },
  "kernelspec": {
   "display_name": "Foodprice Forecasting",
   "language": "python",
   "name": "foodprice_forecasting"
  },
  "language_info": {
   "codemirror_mode": {
    "name": "ipython",
    "version": 3
   },
   "file_extension": ".py",
   "mimetype": "text/x-python",
   "name": "python",
   "nbconvert_exporter": "python",
   "pygments_lexer": "ipython3",
   "version": "3.8.12"
  }
 },
 "nbformat": 4,
 "nbformat_minor": 2
}
