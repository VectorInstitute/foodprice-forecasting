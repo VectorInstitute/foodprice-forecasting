{
 "cells": [
  {
   "cell_type": "markdown",
   "id": "asian-cambodia",
   "metadata": {},
   "source": [
    "## Generate retrospective forecasts using Prophet\n",
    "\n",
    "Use Prophet to generate retrospective forecasts."
   ]
  },
  {
   "cell_type": "code",
   "execution_count": null,
   "id": "virtual-difference",
   "metadata": {
    "executionInfo": {
     "elapsed": 290,
     "status": "ok",
     "timestamp": 1634322459168,
     "user": {
      "displayName": "Ethan Jackson",
      "photoUrl": "https://lh3.googleusercontent.com/a-/AOh14Gj0sN-qIkLWaD3gNaMMx-oLuegd5o3MGlU94qG9IQ=s64",
      "userId": "16234263294244605206"
     },
     "user_tz": 240
    },
    "id": "be47811d-c45c-4945-94b3-4ce5e981ead4"
   },
   "outputs": [],
   "source": [
    "import matplotlib.pyplot as plt\n",
    "import matplotlib.patches as mpatches\n",
    "from matplotlib.lines import Line2D\n",
    "import numpy as np\n",
    "import pandas as pd\n",
    "pd.set_option('precision', 3)\n",
    "from prophet import Prophet\n",
    "from sklearn.metrics import r2_score, mean_absolute_error, mean_squared_error, mean_absolute_percentage_error\n",
    "import os"
   ]
  },
  {
   "cell_type": "code",
   "execution_count": null,
   "id": "differential-majority",
   "metadata": {
    "executionInfo": {
     "elapsed": 279,
     "status": "ok",
     "timestamp": 1634321479295,
     "user": {
      "displayName": "Ethan Jackson",
      "photoUrl": "https://lh3.googleusercontent.com/a-/AOh14Gj0sN-qIkLWaD3gNaMMx-oLuegd5o3MGlU94qG9IQ=s64",
      "userId": "16234263294244605206"
     },
     "user_tz": 240
    },
    "id": "a3fd51aa-3046-46a9-af80-7d95c28dd3a3"
   },
   "outputs": [],
   "source": [
    "\"\"\"\n",
    "Set sample rate. In this notebook, all data will be resampled at the chosen frequency.\n",
    "'MS' : Monthly (Month Start)\n",
    "'W' : Weekly\n",
    "'D' : Daily\n",
    "\n",
    "Set the output path corresponding to the experiment. The ensembling experiment will \n",
    "look for specific output files in the output directory corresponding to forecasts, \n",
    "e.g.: ./output/prophet_202110/forecasts_2015-07-01.csv\n",
    "\"\"\"\n",
    "\n",
    "year_period = {'MS': 12, 'W': 52, 'D': 365}\n",
    "frequency = 'MS'\n",
    "one_year = year_period[frequency]\n",
    "output_path = \"./output/prophet_TEST\"\n",
    "if not os.path.exists(output_path):\n",
    "    if not os.path.exists(\"./output\"):\n",
    "        os.mkdir(\"./output\")\n",
    "    os.mkdir(output_path)"
   ]
  },
  {
   "cell_type": "markdown",
   "id": "surrounded-workstation",
   "metadata": {
    "id": "1611d765-10f6-42c1-a137-8ff7f3d0fbed"
   },
   "source": [
    "## Load Data From File\n",
    "\n",
    "Be sure to run `load_data.ipynb` to produce the data file `all_data.csv`"
   ]
  },
  {
   "cell_type": "code",
   "execution_count": null,
   "id": "progressive-looking",
   "metadata": {},
   "outputs": [],
   "source": [
    "foodprice_categories = pd.read_csv(\"./foodprice_categories.txt\", sep='\\n', header=None)[0].to_list()\n",
    "foodprice_df = pd.read_csv(\"./all_data.csv\", index_col=0)\n",
    "foodprice_df = foodprice_df.set_index(pd.DatetimeIndex(foodprice_df.index))\n",
    "foodprice_df"
   ]
  },
  {
   "cell_type": "markdown",
   "id": "charitable-indie",
   "metadata": {
    "id": "dcad2a81-5035-4abc-a17e-109849d2ce3a"
   },
   "source": [
    "## Experiment Setup"
   ]
  },
  {
   "cell_type": "code",
   "execution_count": null,
   "id": "hourly-ukraine",
   "metadata": {
    "executionInfo": {
     "elapsed": 376,
     "status": "ok",
     "timestamp": 1634321694442,
     "user": {
      "displayName": "Ethan Jackson",
      "photoUrl": "https://lh3.googleusercontent.com/a-/AOh14Gj0sN-qIkLWaD3gNaMMx-oLuegd5o3MGlU94qG9IQ=s64",
      "userId": "16234263294244605206"
     },
     "user_tz": 240
    },
    "id": "2Bhnlqfti1L4"
   },
   "outputs": [],
   "source": [
    "report_sim_dates = pd.read_csv(\"./reportsimdates.txt\", sep='\\n', header=None)[0].to_list()\n",
    "report_sim_dates"
   ]
  },
  {
   "cell_type": "code",
   "execution_count": null,
   "id": "afraid-native",
   "metadata": {
    "executionInfo": {
     "elapsed": 457,
     "status": "ok",
     "timestamp": 1634321699499,
     "user": {
      "displayName": "Ethan Jackson",
      "photoUrl": "https://lh3.googleusercontent.com/a-/AOh14Gj0sN-qIkLWaD3gNaMMx-oLuegd5o3MGlU94qG9IQ=s64",
      "userId": "16234263294244605206"
     },
     "user_tz": 240
    },
    "id": "392debaa-e8b0-4eb8-ad2a-b5e35dd700ec"
   },
   "outputs": [],
   "source": [
    "sim_train_dates = {}\n",
    "sim_valid_dates = {}\n",
    "\n",
    "for date in report_sim_dates:\n",
    "    sim_train_dates[date] = foodprice_df.index[foodprice_df.index <= date]\n",
    "    sim_valid_dates[date] = foodprice_df.index[(foodprice_df.index > date) & (foodprice_df.index <= (pd.to_datetime(date) + pd.DateOffset(months=18)))]"
   ]
  },
  {
   "cell_type": "code",
   "execution_count": null,
   "id": "representative-barrier",
   "metadata": {
    "executionInfo": {
     "elapsed": 308,
     "status": "ok",
     "timestamp": 1634321702569,
     "user": {
      "displayName": "Ethan Jackson",
      "photoUrl": "https://lh3.googleusercontent.com/a-/AOh14Gj0sN-qIkLWaD3gNaMMx-oLuegd5o3MGlU94qG9IQ=s64",
      "userId": "16234263294244605206"
     },
     "user_tz": 240
    },
    "id": "e44f8b99-4e3e-444e-b76c-5a697310de08"
   },
   "outputs": [],
   "source": [
    "def get_prophet_df(foodprice_df, food_category, dates):\n",
    "    df = foodprice_df[food_category][dates]\n",
    "    df = df.reset_index()\n",
    "    df = df.rename({'REF_DATE':'ds', 'index':'ds', food_category:'y'}, axis=1)\n",
    "    return df"
   ]
  },
  {
   "cell_type": "code",
   "execution_count": null,
   "id": "warming-nudist",
   "metadata": {
    "executionInfo": {
     "elapsed": 4,
     "status": "ok",
     "timestamp": 1634321703866,
     "user": {
      "displayName": "Ethan Jackson",
      "photoUrl": "https://lh3.googleusercontent.com/a-/AOh14Gj0sN-qIkLWaD3gNaMMx-oLuegd5o3MGlU94qG9IQ=s64",
      "userId": "16234263294244605206"
     },
     "user_tz": 240
    },
    "id": "AVVQph3qP-d7"
   },
   "outputs": [],
   "source": [
    "def rmse(y_true, y_pred):\n",
    "    return np.sqrt(mean_squared_error(y_true, y_pred))\n",
    "\n",
    "metrics = {\n",
    "    'r2_score': r2_score,\n",
    "    'mae': mean_absolute_error,\n",
    "    'mape': mean_absolute_percentage_error,\n",
    "    'mse': mean_squared_error,\n",
    "    'rmse': rmse\n",
    "}"
   ]
  },
  {
   "cell_type": "markdown",
   "id": "italian-empire",
   "metadata": {
    "id": "jL7rniuQNjUd"
   },
   "source": [
    "## Fit and Evaluate Models for All CPI Categories (Validation)"
   ]
  },
  {
   "cell_type": "code",
   "execution_count": null,
   "id": "arabic-uganda",
   "metadata": {
    "executionInfo": {
     "elapsed": 288,
     "status": "ok",
     "timestamp": 1634321779969,
     "user": {
      "displayName": "Ethan Jackson",
      "photoUrl": "https://lh3.googleusercontent.com/a-/AOh14Gj0sN-qIkLWaD3gNaMMx-oLuegd5o3MGlU94qG9IQ=s64",
      "userId": "16234263294244605206"
     },
     "user_tz": 240
    },
    "id": "_ch6Hp1rN5_O"
   },
   "outputs": [],
   "source": [
    "def fit_eval_forecast_model(foodprice_df, food_category, train_dates, valid_dates):\n",
    "    train_df = get_prophet_df(foodprice_df, food_category, train_dates)     # Select training data.\n",
    "    model = Prophet()                                                       # Initialize model with (default) paramters.\n",
    "    model.fit(train_df)                                                     # Fit the model.\n",
    "    valid_df = get_prophet_df(foodprice_df, food_category, valid_dates)     # Select the validation data. \n",
    "    valid_forecast = model.predict(valid_df[['ds']])                        # Produce the validation period forecast. \n",
    "\n",
    "    valid_metrics = {metric_name: metric_fn(y_true=valid_df.y,              # Compute validation metrics. \n",
    "                                      y_pred=valid_forecast.yhat) for metric_name, metric_fn in metrics.items()}\n",
    "\n",
    "    return model, valid_forecast, valid_metrics"
   ]
  },
  {
   "cell_type": "code",
   "execution_count": null,
   "id": "interested-small",
   "metadata": {
    "executionInfo": {
     "elapsed": 261,
     "status": "ok",
     "timestamp": 1634321974854,
     "user": {
      "displayName": "Ethan Jackson",
      "photoUrl": "https://lh3.googleusercontent.com/a-/AOh14Gj0sN-qIkLWaD3gNaMMx-oLuegd5o3MGlU94qG9IQ=s64",
      "userId": "16234263294244605206"
     },
     "user_tz": 240
    },
    "id": "jZs37nNgN04v"
   },
   "outputs": [],
   "source": [
    "def plot_valid_forecast(model, food_category, sim_forecast_date, valid_forecast, valid_actual):\n",
    "\n",
    "    fig = model.plot(valid_forecast, figsize=(10,4))\n",
    "    ax = fig.axes[0]\n",
    "    ax.scatter(valid_actual.ds, valid_actual.y, color='green', s=10, label='Actual CPI')\n",
    "    ax.set_title(f'CPI Forecast (Simulated From {date}) - {food_category}')\n",
    "    ax.set_ylabel('CPI (% of 2002 Baseline)')\n",
    "    ax.set_xlabel('Date')\n",
    "\n",
    "    ### Creating legend elements\n",
    "    cmap = plt.get_cmap(\"tab10\")\n",
    "    handles, labels = ax.get_legend_handles_labels()\n",
    "    actual_patch = Line2D([0], [0], color='w', markerfacecolor='black', marker='o', label='Historical CPI')\n",
    "    fc_patch = mpatches.Patch(color=cmap(0), label='Predicted CPI Uncertainty', alpha=0.5)\n",
    "    fc_line = Line2D([0], [0], color=cmap(0), label='Predicted CPI')\n",
    "    handles.append(actual_patch)\n",
    "    handles.append(fc_line)\n",
    "    handles.append(fc_patch)\n",
    "    ax.legend(handles=handles)\n",
    "    plt.savefig(f\"{output_path}/fc_valid_{food_category}_{sim_forecast_date}.svg\", bbox_inches='tight')\n",
    "    plt.savefig(f\"{output_path}/fc_valid_{food_category}_{sim_forecast_date}.png\", bbox_inches='tight')\n",
    "    plt.show()"
   ]
  },
  {
   "cell_type": "code",
   "execution_count": null,
   "id": "handled-destiny",
   "metadata": {
    "colab": {
     "base_uri": "https://localhost:8080/",
     "height": 1000
    },
    "executionInfo": {
     "elapsed": 144412,
     "status": "ok",
     "timestamp": 1634322120417,
     "user": {
      "displayName": "Ethan Jackson",
      "photoUrl": "https://lh3.googleusercontent.com/a-/AOh14Gj0sN-qIkLWaD3gNaMMx-oLuegd5o3MGlU94qG9IQ=s64",
      "userId": "16234263294244605206"
     },
     "user_tz": 240
    },
    "id": "y8c7sklWQQnh",
    "outputId": "fa2ed82b-dc3d-4c95-a7de-57e30cfa759d"
   },
   "outputs": [],
   "source": [
    "all_valid_metrics = {}\n",
    "all_forecasts = {}\n",
    "\n",
    "for food_category in foodprice_categories:\n",
    "\n",
    "    annual_valid_metrics = {}\n",
    "    annual_forecasts = {}\n",
    "\n",
    "    for date in report_sim_dates:  \n",
    "\n",
    "        train_dates = sim_train_dates[date]\n",
    "        valid_dates = sim_valid_dates[date]\n",
    "\n",
    "        model, valid_forecast, valid_metrics = fit_eval_forecast_model(foodprice_df, food_category, train_dates, valid_dates)\n",
    "        valid_actual = get_prophet_df(foodprice_df, food_category, valid_dates) \n",
    "\n",
    "        plot_valid_forecast(model, food_category, date, valid_forecast, valid_actual)\n",
    "        valid_metrics_series = pd.Series(valid_metrics)\n",
    "        print(valid_metrics_series)\n",
    "\n",
    "        annual_valid_metrics[date] = pd.DataFrame(valid_metrics_series).mean(axis=1)\n",
    "        annual_forecasts[date] = valid_forecast.yhat\n",
    "\n",
    "    all_valid_metrics[food_category] = annual_valid_metrics\n",
    "    all_forecasts[food_category] = annual_forecasts"
   ]
  },
  {
   "cell_type": "markdown",
   "id": "arctic-alexander",
   "metadata": {
    "id": "9iAjUJsYMVld"
   },
   "source": [
    "### Collect Validation Metrics and Save to File"
   ]
  },
  {
   "cell_type": "code",
   "execution_count": null,
   "id": "dressed-minority",
   "metadata": {
    "colab": {
     "base_uri": "https://localhost:8080/",
     "height": 332
    },
    "executionInfo": {
     "elapsed": 315,
     "status": "ok",
     "timestamp": 1634322507094,
     "user": {
      "displayName": "Ethan Jackson",
      "photoUrl": "https://lh3.googleusercontent.com/a-/AOh14Gj0sN-qIkLWaD3gNaMMx-oLuegd5o3MGlU94qG9IQ=s64",
      "userId": "16234263294244605206"
     },
     "user_tz": 240
    },
    "id": "4xXoMwORMbRK",
    "outputId": "22de25a5-95fc-4905-ada5-57aee9bd7a99"
   },
   "outputs": [],
   "source": [
    "mean_valid_metrics = {}\n",
    "for food_category, valid_scores in all_valid_metrics.items():\n",
    "    mean_valid_metrics[food_category] = pd.DataFrame(valid_scores).mean(axis=1)\n",
    "\n",
    "mean_valid_metrics_df = pd.DataFrame(mean_valid_metrics).T\n",
    "mean_valid_metrics_df.to_csv(f\"{output_path}/mean_fc_valid_metrics.csv\")\n",
    "mean_valid_metrics_df"
   ]
  },
  {
   "cell_type": "markdown",
   "id": "empty-album",
   "metadata": {},
   "source": [
    "## Save Validation Forecasts to File (For Ensembling)"
   ]
  },
  {
   "cell_type": "code",
   "execution_count": null,
   "id": "upset-standing",
   "metadata": {},
   "outputs": [],
   "source": [
    "date_forecasts = {}\n",
    "for date in report_sim_dates:\n",
    "    valid_dates = sim_valid_dates[date]\n",
    "    food_forecasts = {}\n",
    "    for food_category in foodprice_categories:\n",
    "        food_forecasts[food_category] = all_forecasts[food_category][date]\n",
    "    date_forecasts[date] = pd.DataFrame(food_forecasts)\n",
    "    date_forecasts[date] = date_forecasts[date].set_index(pd.DatetimeIndex(valid_dates))\n",
    "    date_forecasts[date].to_csv(f\"{output_path}/forecasts_{date}.csv\")"
   ]
  }
 ],
 "metadata": {
  "colab": {
   "collapsed_sections": [],
   "name": "forecasting-prophet.ipynb",
   "provenance": []
  },
  "interpreter": {
   "hash": "d7359b97dda1a7a8948a5a4d396848125c7f44b4c1a886dc629ec440a49e68ef"
  },
  "kernelspec": {
   "display_name": "Foodprice Forecasting",
   "language": "python",
   "name": "foodprice_forecasting"
  },
  "language_info": {
   "codemirror_mode": {
    "name": "ipython",
    "version": 3
   },
   "file_extension": ".py",
   "mimetype": "text/x-python",
   "name": "python",
   "nbconvert_exporter": "python",
   "pygments_lexer": "ipython3",
   "version": "3.8.12"
  }
 },
 "nbformat": 4,
 "nbformat_minor": 5
}
