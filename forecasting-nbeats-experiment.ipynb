{
 "cells": [
  {
   "cell_type": "code",
   "execution_count": null,
   "id": "constant-slope",
   "metadata": {
    "executionInfo": {
     "elapsed": 278,
     "status": "ok",
     "timestamp": 1634587049355,
     "user": {
      "displayName": "Ethan Jackson",
      "photoUrl": "https://lh3.googleusercontent.com/a-/AOh14Gj0sN-qIkLWaD3gNaMMx-oLuegd5o3MGlU94qG9IQ=s64",
      "userId": "16234263294244605206"
     },
     "user_tz": 240
    },
    "id": "be47811d-c45c-4945-94b3-4ce5e981ead4"
   },
   "outputs": [],
   "source": [
    "import pandas as pd\n",
    "pd.set_option('precision', 3)\n",
    "\n",
    "import matplotlib.pyplot as plt\n",
    "import matplotlib.patches as mpatches\n",
    "from matplotlib.lines import Line2D\n",
    "from matplotlib.patches import Patch\n",
    "\n",
    "import numpy as np\n",
    "from sklearn.metrics import r2_score, mean_absolute_error, mean_squared_error, mean_absolute_percentage_error\n",
    "\n",
    "import os\n",
    "\n",
    "import mxnet as mx\n",
    "from gluonts.model.n_beats import NBEATSEnsembleEstimator\n",
    "from gluonts.mx import Trainer\n",
    "from gluonts.dataset.common import ListDataset\n",
    "from gluonts.evaluation import make_evaluation_predictions"
   ]
  },
  {
   "cell_type": "code",
   "execution_count": null,
   "id": "indie-development",
   "metadata": {
    "executionInfo": {
     "elapsed": 172,
     "status": "ok",
     "timestamp": 1634576168321,
     "user": {
      "displayName": "Ethan Jackson",
      "photoUrl": "https://lh3.googleusercontent.com/a-/AOh14Gj0sN-qIkLWaD3gNaMMx-oLuegd5o3MGlU94qG9IQ=s64",
      "userId": "16234263294244605206"
     },
     "user_tz": 240
    },
    "id": "a3fd51aa-3046-46a9-af80-7d95c28dd3a3"
   },
   "outputs": [],
   "source": [
    "\"\"\"\n",
    "Set sample rate. In this notebook, all data will be resampled at the chosen frequency.\n",
    "'MS' : Monthly (Month Start)\n",
    "'W' : Weekly\n",
    "'D' : Daily\n",
    "\"\"\"\n",
    "\n",
    "year_period = {'MS': 12, 'W': 52, 'D': 365}\n",
    "frequency = 'MS'\n",
    "one_year = year_period[frequency]\n",
    "output_path = \"./output/nbeats_TEST\"\n",
    "if not os.path.exists(output_path):\n",
    "    if not os.path.exists(\"./output\"):\n",
    "        os.mkdir(\"./output\")\n",
    "    os.mkdir(output_path)"
   ]
  },
  {
   "cell_type": "markdown",
   "id": "furnished-spelling",
   "metadata": {
    "id": "1611d765-10f6-42c1-a137-8ff7f3d0fbed"
   },
   "source": [
    "## Load Data From File"
   ]
  },
  {
   "cell_type": "code",
   "execution_count": null,
   "id": "contained-bhutan",
   "metadata": {},
   "outputs": [],
   "source": [
    "foodprice_categories = pd.read_csv(\"./foodprice_categories.txt\", sep='\\n', header=None)[0].to_list()\n",
    "foodprice_df = pd.read_csv(\"./all_data.csv\", index_col=0)\n",
    "foodprice_df = foodprice_df.set_index(pd.DatetimeIndex(foodprice_df.index))\n",
    "foodprice_df"
   ]
  },
  {
   "cell_type": "markdown",
   "id": "refined-category",
   "metadata": {
    "id": "a736153c-3cbe-4aa9-a5fd-9128f8e64328"
   },
   "source": [
    "## Experiment And Data Setup"
   ]
  },
  {
   "cell_type": "code",
   "execution_count": null,
   "id": "impressed-timothy",
   "metadata": {
    "executionInfo": {
     "elapsed": 7,
     "status": "ok",
     "timestamp": 1634576186291,
     "user": {
      "displayName": "Ethan Jackson",
      "photoUrl": "https://lh3.googleusercontent.com/a-/AOh14Gj0sN-qIkLWaD3gNaMMx-oLuegd5o3MGlU94qG9IQ=s64",
      "userId": "16234263294244605206"
     },
     "user_tz": 240
    },
    "id": "2Bhnlqfti1L4"
   },
   "outputs": [],
   "source": [
    "report_sim_dates = pd.read_csv(\"./reportsimdates.txt\", sep='\\n', header=None)[0].to_list()\n",
    "report_sim_dates"
   ]
  },
  {
   "cell_type": "code",
   "execution_count": null,
   "id": "mechanical-party",
   "metadata": {
    "executionInfo": {
     "elapsed": 6,
     "status": "ok",
     "timestamp": 1634576186292,
     "user": {
      "displayName": "Ethan Jackson",
      "photoUrl": "https://lh3.googleusercontent.com/a-/AOh14Gj0sN-qIkLWaD3gNaMMx-oLuegd5o3MGlU94qG9IQ=s64",
      "userId": "16234263294244605206"
     },
     "user_tz": 240
    },
    "id": "392debaa-e8b0-4eb8-ad2a-b5e35dd700ec"
   },
   "outputs": [],
   "source": [
    "sim_train_dates = {}\n",
    "sim_valid_dates = {}\n",
    "\n",
    "for date in report_sim_dates:\n",
    "    sim_train_dates[date] = foodprice_df.index[foodprice_df.index <= date]\n",
    "    sim_valid_dates[date] = foodprice_df.index[(foodprice_df.index > date) & (foodprice_df.index <= (pd.to_datetime(date) + pd.DateOffset(months=18)))]"
   ]
  },
  {
   "cell_type": "code",
   "execution_count": null,
   "id": "cognitive-skiing",
   "metadata": {
    "colab": {
     "base_uri": "https://localhost:8080/",
     "height": 763
    },
    "executionInfo": {
     "elapsed": 235,
     "status": "ok",
     "timestamp": 1634582516688,
     "user": {
      "displayName": "Ethan Jackson",
      "photoUrl": "https://lh3.googleusercontent.com/a-/AOh14Gj0sN-qIkLWaD3gNaMMx-oLuegd5o3MGlU94qG9IQ=s64",
      "userId": "16234263294244605206"
     },
     "user_tz": 240
    },
    "id": "rnXtQCgEs2H3",
    "outputId": "1feeb6df-76e5-4c1d-ff6f-da615ab3a158"
   },
   "outputs": [],
   "source": [
    "dataset_df = foodprice_df[foodprice_categories].T\n",
    "dataset_df"
   ]
  },
  {
   "cell_type": "code",
   "execution_count": null,
   "id": "ordinary-pipeline",
   "metadata": {
    "executionInfo": {
     "elapsed": 143,
     "status": "ok",
     "timestamp": 1634584340558,
     "user": {
      "displayName": "Ethan Jackson",
      "photoUrl": "https://lh3.googleusercontent.com/a-/AOh14Gj0sN-qIkLWaD3gNaMMx-oLuegd5o3MGlU94qG9IQ=s64",
      "userId": "16234263294244605206"
     },
     "user_tz": 240
    },
    "id": "AVVQph3qP-d7"
   },
   "outputs": [],
   "source": [
    "def rmse(y_true, y_pred):\n",
    "    return np.sqrt(mean_squared_error(y_true, y_pred))\n",
    "\n",
    "metrics = {\n",
    "    'r2_score': r2_score,\n",
    "    'mae': mean_absolute_error,\n",
    "    'mape': mean_absolute_percentage_error,\n",
    "    'mse': mean_squared_error,\n",
    "    'rmse': rmse\n",
    "}\n",
    "def get_prophet_df(foodprice_df, food_category, dates):\n",
    "    df = foodprice_df[food_category][dates]\n",
    "    df = df.reset_index()\n",
    "    df = df.rename({'REF_DATE':'ds', 'index':'ds', food_category:'y'}, axis=1)\n",
    "    return df"
   ]
  },
  {
   "cell_type": "markdown",
   "id": "hidden-spouse",
   "metadata": {},
   "source": [
    "## Fit Models and Save Forecasts\n",
    "\n",
    "Fit a model using data up to the `report_sim_date` and use it to produce forecasts for the following 18 months. Collect evaluation metrics for comparion and save the forecasts for use in the ensembling experiments."
   ]
  },
  {
   "cell_type": "code",
   "execution_count": null,
   "id": "international-latex",
   "metadata": {
    "colab": {
     "base_uri": "https://localhost:8080/",
     "height": 1000
    },
    "executionInfo": {
     "elapsed": 9960613,
     "status": "ok",
     "timestamp": 1634600449715,
     "user": {
      "displayName": "Ethan Jackson",
      "photoUrl": "https://lh3.googleusercontent.com/a-/AOh14Gj0sN-qIkLWaD3gNaMMx-oLuegd5o3MGlU94qG9IQ=s64",
      "userId": "16234263294244605206"
     },
     "user_tz": 240
    },
    "id": "HPi4At6gT26Q",
    "outputId": "3d99832f-f9e2-4b1f-d6c0-1499c8468464"
   },
   "outputs": [],
   "source": [
    "def train_eval_nbeats(report_sim_date, prediction_length=18):\n",
    "\n",
    "    report_train_dates = sim_train_dates[report_sim_date]\n",
    "    report_valid_dates = sim_valid_dates[report_sim_date]\n",
    "    \n",
    "    # train dataset: cut the last window of length \"prediction_length\", add \"target\" and \"start\" fields\n",
    "    train_ds = ListDataset(\n",
    "        [{'target': x, 'start': report_sim_date} for x in dataset_df[list(report_train_dates)].values],\n",
    "        freq='MS'\n",
    "    )\n",
    "\n",
    "    valid_ds_report = ListDataset(\n",
    "        [{'target': x, 'start': report_sim_date} for x in dataset_df[list(report_train_dates) + list(report_valid_dates)].values],\n",
    "        freq='MS'\n",
    "    )\n",
    "\n",
    "    estimator = NBEATSEnsembleEstimator(\n",
    "        prediction_length=prediction_length,\n",
    "        meta_bagging_size = 3,\n",
    "        meta_context_length = [prediction_length * m for m in [3,5,7]], \n",
    "        meta_loss_function = ['sMAPE'], \n",
    "        num_stacks = 30,\n",
    "        widths= [512],\n",
    "        freq=\"MS\",\n",
    "        trainer=Trainer(\n",
    "                    epochs=1,  # 50\n",
    "                    ctx=mx.context.cpu()\n",
    "                )\n",
    "\n",
    "    )\n",
    "\n",
    "    predictor = estimator.train(train_ds)\n",
    "\n",
    "    forecast_it, ts_it = make_evaluation_predictions(\n",
    "        dataset=valid_ds_report,  # test dataset\n",
    "        predictor=predictor,  # predictor\n",
    "    )\n",
    "\n",
    "    forecasts = list(forecast_it)\n",
    "    tss = list(ts_it)\n",
    "    all_fc_dates = list(report_train_dates) + list(report_valid_dates)\n",
    "\n",
    "    all_food_metrics = {}\n",
    "    food_forecasts = {}\n",
    "\n",
    "    for target_index in range(len(forecasts)):\n",
    "\n",
    "        # Get food price category\n",
    "        foodprice_category = foodprice_df.columns[target_index]\n",
    "\n",
    "        # plot actual\n",
    "        fig, ax = plt.subplots(figsize=(8,3))\n",
    "        ax.scatter(all_fc_dates, foodprice_df[foodprice_category][all_fc_dates], color='black')\n",
    "\n",
    "        # plot forecast\n",
    "        forecast_entry = forecasts[target_index]\n",
    "        ax.plot(report_valid_dates, forecast_entry.mean[:len(report_valid_dates)], color='C0')\n",
    "\n",
    "        plt.title(f\"{foodprice_category}, {report_sim_date}\")\n",
    "        plt.grid()\n",
    "        plt.show()\n",
    "\n",
    "        fc_metrics = {}\n",
    "        for metric_name, metric_fn in metrics.items():\n",
    "            print(metric_name, metric_fn)\n",
    "            y_true = foodprice_df[foodprice_category][report_valid_dates]\n",
    "            y_pred = forecast_entry.mean[:len(report_valid_dates)]\n",
    "            score = metric_fn(y_true=y_true, y_pred=y_pred)\n",
    "            print(metric_name, score)\n",
    "            fc_metrics[metric_name] = score\n",
    "\n",
    "\n",
    "        all_food_metrics[foodprice_category] = fc_metrics\n",
    "        food_forecasts[foodprice_category] = pd.Series(forecast_entry.mean[:len(report_valid_dates)], index=report_valid_dates, name=foodprice_category)\n",
    "\n",
    "\n",
    "    all_forecasts = pd.DataFrame(food_forecasts)\n",
    "    all_forecasts.to_csv(f\"{output_path}/forecasts_{report_sim_date}.csv\")\n",
    "\n",
    "    return all_food_metrics, all_forecasts"
   ]
  },
  {
   "cell_type": "code",
   "execution_count": null,
   "id": "light-belarus",
   "metadata": {},
   "outputs": [],
   "source": [
    "all_valid_metrics = {}\n",
    "all_forecasts = {}\n",
    "\n",
    "for report_sim_date in report_sim_dates:\n",
    "    valid_metrics, forecasts = train_eval_nbeats(report_sim_date)\n",
    "    all_valid_metrics[report_sim_date] = valid_metrics\n",
    "    all_forecasts[report_sim_date] = forecasts"
   ]
  },
  {
   "cell_type": "code",
   "execution_count": null,
   "id": "extensive-element",
   "metadata": {
    "colab": {
     "base_uri": "https://localhost:8080/",
     "height": 332
    },
    "executionInfo": {
     "elapsed": 210,
     "status": "ok",
     "timestamp": 1634600861969,
     "user": {
      "displayName": "Ethan Jackson",
      "photoUrl": "https://lh3.googleusercontent.com/a-/AOh14Gj0sN-qIkLWaD3gNaMMx-oLuegd5o3MGlU94qG9IQ=s64",
      "userId": "16234263294244605206"
     },
     "user_tz": 240
    },
    "id": "-W8kSjf95ji1",
    "outputId": "7285776d-04d6-45ac-f7d9-1fdb59e0d0df"
   },
   "outputs": [],
   "source": [
    "valid_metrics_concat = {}\n",
    "\n",
    "all_valid_metrics.keys()\n",
    "\n",
    "for report_date, valid_scores in all_valid_metrics.items():\n",
    "    valid_metrics_concat[report_date] = pd.DataFrame(valid_scores).T\n",
    "index = valid_metrics_concat[report_date].index\n",
    "columns = valid_metrics_concat[report_date].columns\n",
    "scores = [df.values for date, df in valid_metrics_concat.items()]\n",
    "mean_scores = pd.DataFrame(np.array(scores).mean(axis=0), index=index, columns=columns)\n",
    "mean_scores.to_csv(f\"{output_path}/mean_fc_valid_metrics.csv\")\n",
    "mean_scores"
   ]
  },
  {
   "cell_type": "code",
   "execution_count": null,
   "id": "professional-injury",
   "metadata": {},
   "outputs": [],
   "source": []
  }
 ],
 "metadata": {
  "accelerator": "GPU",
  "colab": {
   "collapsed_sections": [],
   "name": "forecasting-nbeats.ipynb",
   "provenance": [
    {
     "file_id": "13Kkg9losPuncpwDUvLml777Pax3pP2FG",
     "timestamp": 1634321819792
    }
   ]
  },
  "interpreter": {
   "hash": "d7359b97dda1a7a8948a5a4d396848125c7f44b4c1a886dc629ec440a49e68ef"
  },
  "kernelspec": {
   "display_name": "Foodprice Forecasting",
   "language": "python",
   "name": "foodprice_forecasting"
  },
  "language_info": {
   "codemirror_mode": {
    "name": "ipython",
    "version": 3
   },
   "file_extension": ".py",
   "mimetype": "text/x-python",
   "name": "python",
   "nbconvert_exporter": "python",
   "pygments_lexer": "ipython3",
   "version": "3.8.12"
  }
 },
 "nbformat": 4,
 "nbformat_minor": 5
}
