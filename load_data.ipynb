{
 "cells": [
  {
   "cell_type": "code",
   "execution_count": null,
   "id": "ceramic-antigua",
   "metadata": {},
   "outputs": [],
   "source": [
    "from utils.data import update_expl_data, update_target_data, food_categories, preprocess_expl, load_statscan\n",
    "import pandas as pd\n",
    "import os\n",
    "from dotenv import load_dotenv"
   ]
  },
  {
   "cell_type": "code",
   "execution_count": null,
   "id": "informational-tuning",
   "metadata": {},
   "outputs": [],
   "source": [
    "\"\"\"\n",
    "Set sample rate. In this notebook, all data will be resampled at the chosen frequency.\n",
    "'MS' : Monthly (Month Start)\n",
    "'W' : Weekly\n",
    "'D' : Daily\n",
    "\"\"\"\n",
    "\n",
    "frequency = 'MS'"
   ]
  },
  {
   "cell_type": "code",
   "execution_count": null,
   "id": "cognitive-creature",
   "metadata": {},
   "outputs": [],
   "source": [
    "\"\"\"\n",
    "Load food CPI data from January 1986 to the most recently available data.\n",
    "\"\"\"\n",
    "if not os.path.exists(\"./data_files\"):\n",
    "    os.mkdir(\"./data_files\")\n",
    "if not os.path.exists(\"./statscan_data\"):\n",
    "    os.mkdir(\"./statscan_data\")\n",
    "foodprice_df = update_target_data(food_categories, './data_files/food_cpi.csv')\n",
    "foodprice_df = foodprice_df.resample(frequency).mean().interpolate()\n",
    "foodprice_df"
   ]
  },
  {
   "cell_type": "code",
   "execution_count": null,
   "id": "d2311211",
   "metadata": {},
   "outputs": [],
   "source": [
    "foodprice_df.to_csv(\"./datasets/food_CPI.csv\")"
   ]
  },
  {
   "cell_type": "markdown",
   "id": "98fee764",
   "metadata": {},
   "source": [
    "### Get energy CPI from StatCan as well"
   ]
  },
  {
   "cell_type": "code",
   "execution_count": null,
   "id": "32ab1a1f",
   "metadata": {},
   "outputs": [],
   "source": [
    "\"\"\"\n",
    "Load energy CPI data from January 1986 to the most recently available data.\n",
    "\"\"\"\n",
    "energy_df = load_statscan(['Energy'])\n",
    "energy_df = energy_df.resample(frequency).mean().interpolate()\n",
    "energy_df"
   ]
  },
  {
   "cell_type": "markdown",
   "id": "57c9a201",
   "metadata": {},
   "source": [
    "### FRED"
   ]
  },
  {
   "cell_type": "code",
   "execution_count": null,
   "id": "8cbdb9dc",
   "metadata": {},
   "outputs": [],
   "source": [
    "fred_data_sources = list(pd.read_csv(\"./data_files/fred_series.csv\").id.unique())\n",
    "fred_data_sources"
   ]
  },
  {
   "cell_type": "code",
   "execution_count": null,
   "id": "floppy-montana",
   "metadata": {},
   "outputs": [],
   "source": [
    "\"\"\"\n",
    "Load exogenous/auxiliary explanatory variables from FRED: https://fred.stlouisfed.org/\n",
    "These data sources reflect various economic factors that may improve forecasts. \n",
    "Please visit the FRED website to learn more about these series, and to find others\n",
    "that may be useful for food CPI forecasting. \n",
    "\"\"\"\n",
    "\n",
    "load_dotenv(\"../.env\")\n",
    "FRED_API_KEY = os.getenv(\"FRED_API_KEY\")\n",
    "\n",
    "data_sources = fred_data_sources\n",
    "\n",
    "expl_df = preprocess_expl(update_expl_data(data_sources, './data_files/expl_vars.csv', sleep_sec=0.5, api_key=FRED_API_KEY))\n",
    "expl_df_monthly = expl_df.resample(frequency).mean().interpolate()\n",
    "expl_df_monthly"
   ]
  },
  {
   "cell_type": "code",
   "execution_count": null,
   "id": "recreational-congo",
   "metadata": {},
   "outputs": [],
   "source": [
    "combined_df = pd.concat((foodprice_df, energy_df, expl_df_monthly,), axis=1).dropna(axis=0)\n",
    "combined_df.to_csv(\"./datasets/all_data.csv\")\n",
    "combined_df"
   ]
  },
  {
   "cell_type": "code",
   "execution_count": null,
   "id": "250b4cd2",
   "metadata": {},
   "outputs": [],
   "source": []
  }
 ],
 "metadata": {
  "kernelspec": {
   "display_name": "Python 3 (ipykernel)",
   "language": "python",
   "name": "python3"
  },
  "language_info": {
   "codemirror_mode": {
    "name": "ipython",
    "version": 3
   },
   "file_extension": ".py",
   "mimetype": "text/x-python",
   "name": "python",
   "nbconvert_exporter": "python",
   "pygments_lexer": "ipython3",
   "version": "3.10.12"
  },
  "vscode": {
   "interpreter": {
    "hash": "2ca56750ac19099246fd5f13b0739abab666c9681ea9067b762d0696d2f74f5d"
   }
  }
 },
 "nbformat": 4,
 "nbformat_minor": 5
}
