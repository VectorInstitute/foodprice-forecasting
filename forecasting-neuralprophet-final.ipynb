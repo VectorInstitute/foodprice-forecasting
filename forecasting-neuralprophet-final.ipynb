{
 "cells": [
  {
   "cell_type": "markdown",
   "id": "9d3b1ebc-c70b-47c1-bc97-78e83ace831f",
   "metadata": {},
   "source": [
    "## Generate Final Forecasts Using NeuralProphet \n",
    "Generate final NeuralProphet forecasts using the configurations of the best ensembles in the retrospective analysis."
   ]
  },
  {
   "cell_type": "code",
   "execution_count": null,
   "id": "burning-rochester",
   "metadata": {
    "executionInfo": {
     "elapsed": 278,
     "status": "ok",
     "timestamp": 1634587049355,
     "user": {
      "displayName": "Ethan Jackson",
      "photoUrl": "https://lh3.googleusercontent.com/a-/AOh14Gj0sN-qIkLWaD3gNaMMx-oLuegd5o3MGlU94qG9IQ=s64",
      "userId": "16234263294244605206"
     },
     "user_tz": 240
    },
    "id": "be47811d-c45c-4945-94b3-4ce5e981ead4"
   },
   "outputs": [],
   "source": [
    "import pandas as pd\n",
    "pd.set_option('precision', 3)\n",
    "\n",
    "import matplotlib.pyplot as plt\n",
    "import matplotlib.patches as mpatches\n",
    "from matplotlib.lines import Line2D\n",
    "from matplotlib.patches import Patch\n",
    "\n",
    "import numpy as np\n",
    "from sklearn.metrics import r2_score, mean_absolute_error, mean_squared_error, mean_absolute_percentage_error\n",
    "import os\n",
    "\n",
    "import ast\n",
    "import re\n",
    "\n",
    "from neuralprophet import NeuralProphet\n"
   ]
  },
  {
   "cell_type": "code",
   "execution_count": null,
   "id": "white-princeton",
   "metadata": {
    "executionInfo": {
     "elapsed": 172,
     "status": "ok",
     "timestamp": 1634576168321,
     "user": {
      "displayName": "Ethan Jackson",
      "photoUrl": "https://lh3.googleusercontent.com/a-/AOh14Gj0sN-qIkLWaD3gNaMMx-oLuegd5o3MGlU94qG9IQ=s64",
      "userId": "16234263294244605206"
     },
     "user_tz": 240
    },
    "id": "a3fd51aa-3046-46a9-af80-7d95c28dd3a3"
   },
   "outputs": [],
   "source": [
    "\"\"\"\n",
    "Set sample rate. In this notebook, all data will be resampled at the chosen frequency.\n",
    "'MS' : Monthly (Month Start)\n",
    "'W' : Weekly\n",
    "'D' : Daily\n",
    "\"\"\"\n",
    "\n",
    "year_period = {'MS': 12, 'W': 52, 'D': 365}\n",
    "frequency = 'MS'\n",
    "one_year = year_period[frequency]\n",
    "\n",
    "output_path = \"./output/neuralprophet_final_forecasts_TEST\"\n",
    "if not os.path.exists(output_path):\n",
    "    if not os.path.exists(\"./output\"):\n",
    "        os.mkdir(\"./output\")\n",
    "    os.mkdir(output_path)"
   ]
  },
  {
   "cell_type": "markdown",
   "id": "threaded-navigation",
   "metadata": {
    "id": "1611d765-10f6-42c1-a137-8ff7f3d0fbed"
   },
   "source": [
    "## Load Data From Files"
   ]
  },
  {
   "cell_type": "code",
   "execution_count": null,
   "id": "forty-effort",
   "metadata": {
    "colab": {
     "base_uri": "https://localhost:8080/",
     "height": 473
    },
    "executionInfo": {
     "elapsed": 7623,
     "status": "ok",
     "timestamp": 1634587143983,
     "user": {
      "displayName": "Ethan Jackson",
      "photoUrl": "https://lh3.googleusercontent.com/a-/AOh14Gj0sN-qIkLWaD3gNaMMx-oLuegd5o3MGlU94qG9IQ=s64",
      "userId": "16234263294244605206"
     },
     "user_tz": 240
    },
    "id": "66b5ceb6-0866-4f9b-8b76-d27f58bba508",
    "outputId": "fe70a88c-b7fa-4010-f7c2-3c33ebc087e8"
   },
   "outputs": [],
   "source": [
    "foodprice_categories = pd.read_csv(\"./foodprice_categories.txt\", sep='\\n', header=None)[0].to_list()\n",
    "foodprice_df = pd.read_csv(\"./all_data.csv\", index_col=0)\n",
    "foodprice_df = foodprice_df.set_index(pd.DatetimeIndex(foodprice_df.index))\n",
    "foodprice_df"
   ]
  },
  {
   "cell_type": "code",
   "execution_count": null,
   "id": "opposite-cosmetic",
   "metadata": {
    "executionInfo": {
     "elapsed": 143,
     "status": "ok",
     "timestamp": 1634584340558,
     "user": {
      "displayName": "Ethan Jackson",
      "photoUrl": "https://lh3.googleusercontent.com/a-/AOh14Gj0sN-qIkLWaD3gNaMMx-oLuegd5o3MGlU94qG9IQ=s64",
      "userId": "16234263294244605206"
     },
     "user_tz": 240
    },
    "id": "AVVQph3qP-d7"
   },
   "outputs": [],
   "source": [
    "def get_neuralprophet_df(foodprice_df, food_category, dates, lagged_regressor):\n",
    "    prophet_df = pd.DataFrame({'ds': foodprice_df[food_category][dates].index, \n",
    "                           'y':foodprice_df[food_category].loc[foodprice_df.index][dates], \n",
    "                           lagged_regressor: foodprice_df[lagged_regressor].loc[foodprice_df.index][dates],\n",
    "                          })\n",
    "    prophet_df.reset_index(drop=True, inplace=True)\n",
    "\n",
    "    return prophet_df\n",
    "    "
   ]
  },
  {
   "cell_type": "markdown",
   "id": "capable-cocktail",
   "metadata": {
    "id": "iS8A4GYWYgeS"
   },
   "source": [
    "## Fit Models Using All Data To Produce Final Forecast"
   ]
  },
  {
   "cell_type": "code",
   "execution_count": null,
   "id": "direct-comparative",
   "metadata": {},
   "outputs": [],
   "source": [
    "def fit_final_forecast_model(foodprice_df, food_category, all_dates, lagged_regressor, nlags):\n",
    "           \n",
    "    train_model =NeuralProphet(n_forecasts =18,                                                    # initialize model\n",
    "                                n_lags = nlags)\n",
    "    \n",
    "    print(\"for food category: \", food_category, \"\\n for lagged regressor: \", lagged_regressor)\n",
    "    train_df = get_neuralprophet_df(foodprice_df, food_category, all_dates, str(lagged_regressor)) # select data\n",
    "\n",
    "    train_model = train_model.add_lagged_regressor(names=[lagged_regressor])                      # lagged regressor to model\n",
    "    train_model.fit(train_df, freq='MS')                                                         # fit the model\n",
    "    \n",
    "                \n",
    "    future = train_model.make_future_dataframe(train_df, periods=18)                            # create the future period\n",
    "    forecast = train_model.predict(future)                                                     # Produce the future period forecast. \n",
    "            \n",
    "    return train_model, forecast"
   ]
  },
  {
   "cell_type": "markdown",
   "id": "b285cd45-adeb-4ce5-a10a-4c7f80e24aab",
   "metadata": {},
   "source": [
    "Use `ensemble_results.pkl` to indicate which features and number of lags to use for the final forecasts."
   ]
  },
  {
   "cell_type": "code",
   "execution_count": null,
   "id": "specified-collectible",
   "metadata": {},
   "outputs": [],
   "source": [
    "ensemble_file = pd.read_pickle(\"./output/ensemble_TEST/ensemble_results.pkl\")\n",
    "ensemble_file.index.name = 'food_category'\n",
    "d = ensemble_file.T.to_dict()\n",
    "print(d)"
   ]
  },
  {
   "cell_type": "code",
   "execution_count": null,
   "id": "d823f72a-c655-4371-9754-799fbd4428bb",
   "metadata": {
    "tags": []
   },
   "outputs": [],
   "source": [
    "%%time\n",
    "all_forecasts = {} \n",
    "count = 0\n",
    "for key,value in d.items():\n",
    "    for val in (value['best_config']):\n",
    "        if not val.startswith(\"neuralprophet\"):\n",
    "            continue\n",
    "        else:\n",
    "            exp = re.compile(r'.*_(.*)_nlags_(.*)')\n",
    "            re_match = exp.match(val)\n",
    "            lagged_reg = str(re_match.group(1))\n",
    "            nlags = int(re_match.group(2))\n",
    "            print(lagged_reg)\n",
    "            \n",
    "            # fit final forecast based on lagged_reg and nlags\n",
    "            model, forecast= fit_final_forecast_model(foodprice_df, key, foodprice_df.index, lagged_reg, nlags)\n",
    "            all_forecasts[(key, lagged_reg, nlags)] = forecast\n",
    "            \n",
    "            print(\"------------ done: \", count, \" -----------\")\n",
    "            count += 1"
   ]
  },
  {
   "cell_type": "code",
   "execution_count": null,
   "id": "97f74738-1b4a-48d4-be5d-ef9d53974835",
   "metadata": {},
   "outputs": [],
   "source": [
    "for (food_category, lagged_reg, nlags), forecast_df in all_forecasts.items():\n",
    "    all_forecasts_yhat = {}\n",
    "    print(food_category, lagged_reg, nlags)\n",
    "    \n",
    "    all_yhats = []\n",
    "    for yhat in [\"yhat\" + str(i) for i in range(1,19)]:\n",
    "        all_yhats.append((forecast_df.loc[forecast_df[yhat].first_valid_index()][yhat]))  #get all yhats from forecast\n",
    "    \n",
    "    all_forecasts_yhat[(food_category)] = pd.Series(all_yhats)\n",
    "    all_forecasts_yhat[(food_category)].index = pd.DatetimeIndex(forecast_df.ds[-18:])\n",
    "    \n",
    "    final_forecast_df = pd.DataFrame(all_forecasts_yhat)\n",
    "    output_path_final = f\"{output_path}/{food_category}_{str(lagged_reg)}_nlags_{str(nlags)}\"\n",
    "    #output_path = output + food_category + \"_\" + str(lagged_reg) + \"_nlags_\" + str(nlags)\n",
    "    if not os.path.exists(output_path_final):\n",
    "        print(\"new directory created: \", output_path_final)\n",
    "        os.mkdir(output_path_final)\n",
    "    \n",
    "    final_forecast_df.to_csv(f\"{output_path_final}/fc_final.csv\")"
   ]
  },
  {
   "cell_type": "code",
   "execution_count": null,
   "id": "678c3e4d",
   "metadata": {},
   "outputs": [],
   "source": []
  }
 ],
 "metadata": {
  "accelerator": "GPU",
  "colab": {
   "collapsed_sections": [],
   "name": "forecasting-nbeats.ipynb",
   "provenance": [
    {
     "file_id": "13Kkg9losPuncpwDUvLml777Pax3pP2FG",
     "timestamp": 1634321819792
    }
   ]
  },
  "interpreter": {
   "hash": "d7359b97dda1a7a8948a5a4d396848125c7f44b4c1a886dc629ec440a49e68ef"
  },
  "kernelspec": {
   "display_name": "Python 3 (ipykernel)",
   "language": "python",
   "name": "python3"
  },
  "language_info": {
   "codemirror_mode": {
    "name": "ipython",
    "version": 3
   },
   "file_extension": ".py",
   "mimetype": "text/x-python",
   "name": "python",
   "nbconvert_exporter": "python",
   "pygments_lexer": "ipython3",
   "version": "3.9.7"
  }
 },
 "nbformat": 4,
 "nbformat_minor": 5
}
