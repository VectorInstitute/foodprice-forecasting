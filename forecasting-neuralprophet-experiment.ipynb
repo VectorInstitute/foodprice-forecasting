{
 "cells": [
  {
   "cell_type": "markdown",
   "id": "4191bf19-dfac-40e5-b5e0-322d29fa3398",
   "metadata": {},
   "source": [
    "## Generate retrospective forecasts using NeuralProphet\n",
    "\n",
    "Use NeuralProphet to generate retrospective forecasts."
   ]
  },
  {
   "cell_type": "code",
   "execution_count": null,
   "id": "constant-slope",
   "metadata": {
    "executionInfo": {
     "elapsed": 278,
     "status": "ok",
     "timestamp": 1634587049355,
     "user": {
      "displayName": "Ethan Jackson",
      "photoUrl": "https://lh3.googleusercontent.com/a-/AOh14Gj0sN-qIkLWaD3gNaMMx-oLuegd5o3MGlU94qG9IQ=s64",
      "userId": "16234263294244605206"
     },
     "user_tz": 240
    },
    "id": "be47811d-c45c-4945-94b3-4ce5e981ead4"
   },
   "outputs": [],
   "source": [
    "import pandas as pd\n",
    "pd.set_option('precision', 3)\n",
    "\n",
    "import matplotlib.pyplot as plt\n",
    "import matplotlib.patches as mpatches\n",
    "from matplotlib.lines import Line2D\n",
    "from matplotlib.patches import Patch\n",
    "\n",
    "import numpy as np\n",
    "from sklearn.metrics import r2_score, mean_absolute_error, mean_squared_error, mean_absolute_percentage_error\n",
    "\n",
    "import os\n",
    "\n",
    "from neuralprophet import NeuralProphet\n",
    "from sklearn.model_selection import ParameterGrid\n"
   ]
  },
  {
   "cell_type": "code",
   "execution_count": null,
   "id": "indie-development",
   "metadata": {
    "executionInfo": {
     "elapsed": 172,
     "status": "ok",
     "timestamp": 1634576168321,
     "user": {
      "displayName": "Ethan Jackson",
      "photoUrl": "https://lh3.googleusercontent.com/a-/AOh14Gj0sN-qIkLWaD3gNaMMx-oLuegd5o3MGlU94qG9IQ=s64",
      "userId": "16234263294244605206"
     },
     "user_tz": 240
    },
    "id": "a3fd51aa-3046-46a9-af80-7d95c28dd3a3"
   },
   "outputs": [],
   "source": [
    "\"\"\"\n",
    "Set sample rate. In this notebook, all data will be resampled at the chosen frequency.\n",
    "'MS' : Monthly (Month Start)\n",
    "'W' : Weekly\n",
    "'D' : Daily\n",
    "\"\"\"\n",
    "\n",
    "year_period = {'MS': 12, 'W': 52, 'D': 365}\n",
    "frequency = 'MS'\n",
    "one_year = year_period[frequency]"
   ]
  },
  {
   "cell_type": "markdown",
   "id": "furnished-spelling",
   "metadata": {
    "id": "1611d765-10f6-42c1-a137-8ff7f3d0fbed"
   },
   "source": [
    "## Load Data From Files\n",
    "Be sure to run `load_data.ipynb` to produce the data file `all_data.csv`"
   ]
  },
  {
   "cell_type": "code",
   "execution_count": null,
   "id": "contained-bhutan",
   "metadata": {},
   "outputs": [],
   "source": [
    "foodprice_categories = pd.read_csv(\"./foodprice_categories.txt\", sep='\\n', header=None)[0].to_list()\n",
    "foodprice_df = pd.read_csv(\"./all_data.csv\", index_col=0)\n",
    "foodprice_df = foodprice_df.set_index(pd.DatetimeIndex(foodprice_df.index))\n",
    "foodprice_df"
   ]
  },
  {
   "cell_type": "markdown",
   "id": "refined-category",
   "metadata": {
    "id": "a736153c-3cbe-4aa9-a5fd-9128f8e64328"
   },
   "source": [
    "## Experiment Setup"
   ]
  },
  {
   "cell_type": "code",
   "execution_count": null,
   "id": "impressed-timothy",
   "metadata": {
    "executionInfo": {
     "elapsed": 7,
     "status": "ok",
     "timestamp": 1634576186291,
     "user": {
      "displayName": "Ethan Jackson",
      "photoUrl": "https://lh3.googleusercontent.com/a-/AOh14Gj0sN-qIkLWaD3gNaMMx-oLuegd5o3MGlU94qG9IQ=s64",
      "userId": "16234263294244605206"
     },
     "user_tz": 240
    },
    "id": "2Bhnlqfti1L4"
   },
   "outputs": [],
   "source": [
    "report_sim_dates = pd.read_csv(\"./reportsimdates.txt\", sep='\\n', header=None)[0].to_list()\n",
    "report_sim_dates"
   ]
  },
  {
   "cell_type": "code",
   "execution_count": null,
   "id": "mechanical-party",
   "metadata": {
    "executionInfo": {
     "elapsed": 6,
     "status": "ok",
     "timestamp": 1634576186292,
     "user": {
      "displayName": "Ethan Jackson",
      "photoUrl": "https://lh3.googleusercontent.com/a-/AOh14Gj0sN-qIkLWaD3gNaMMx-oLuegd5o3MGlU94qG9IQ=s64",
      "userId": "16234263294244605206"
     },
     "user_tz": 240
    },
    "id": "392debaa-e8b0-4eb8-ad2a-b5e35dd700ec"
   },
   "outputs": [],
   "source": [
    "sim_train_dates = {}\n",
    "sim_valid_dates = {}\n",
    "\n",
    "for date in report_sim_dates:\n",
    "    sim_train_dates[date] = foodprice_df.index[foodprice_df.index <= date]\n",
    "    sim_valid_dates[date] = foodprice_df.index[(foodprice_df.index > date) & (foodprice_df.index <= (pd.to_datetime(date) + pd.DateOffset(months=18)))]"
   ]
  },
  {
   "cell_type": "code",
   "execution_count": null,
   "id": "cognitive-skiing",
   "metadata": {
    "colab": {
     "base_uri": "https://localhost:8080/",
     "height": 763
    },
    "executionInfo": {
     "elapsed": 235,
     "status": "ok",
     "timestamp": 1634582516688,
     "user": {
      "displayName": "Ethan Jackson",
      "photoUrl": "https://lh3.googleusercontent.com/a-/AOh14Gj0sN-qIkLWaD3gNaMMx-oLuegd5o3MGlU94qG9IQ=s64",
      "userId": "16234263294244605206"
     },
     "user_tz": 240
    },
    "id": "rnXtQCgEs2H3",
    "outputId": "1feeb6df-76e5-4c1d-ff6f-da615ab3a158"
   },
   "outputs": [],
   "source": [
    "dataset_df = foodprice_df[foodprice_categories].T\n",
    "dataset_df"
   ]
  },
  {
   "cell_type": "code",
   "execution_count": null,
   "id": "32a8d3e3-5f6e-4871-a021-bb52cbc7d9d9",
   "metadata": {},
   "outputs": [],
   "source": [
    "def get_neuralprophet_df(foodprice_df, food_category, dates, lagged_regressor):\n",
    "    prophet_df = pd.DataFrame({'ds': foodprice_df[food_category][dates].index, \n",
    "                           'y':foodprice_df[food_category].loc[foodprice_df.index][dates], \n",
    "                           lagged_regressor: foodprice_df[lagged_regressor].loc[foodprice_df.index][dates],\n",
    "                          })\n",
    "    prophet_df.reset_index(drop=True, inplace=True)\n",
    "\n",
    "    return prophet_df\n",
    "    "
   ]
  },
  {
   "cell_type": "code",
   "execution_count": null,
   "id": "d7cd1411-351f-4a77-b669-3c12527820cd",
   "metadata": {},
   "outputs": [],
   "source": [
    "data_sources = [\"DEXCAUS\",\n",
    "                \"DCOILWTICO\",\n",
    "                \"WILL5000IND\",\n",
    "                \"VXOCLS\",\n",
    "                \"CUSR0000SAF112\",\n",
    "                \"CUSR0000SAF113\",\n",
    "                \"CPIFABSL\",\n",
    "                \"UNRATE\",\n",
    "                \"FEDFUNDS\",\n",
    "                \"IRLTLT01CAM156N\",\n",
    "                \"LRUNTTTTCAM156S\",\n",
    "                \"CPALCY01CAM661N\",\n",
    "                \"CPGRLE01CAM657N\",\n",
    "                \"QCAR368BIS\"\n",
    "               ]"
   ]
  },
  {
   "cell_type": "code",
   "execution_count": null,
   "id": "ordinary-pipeline",
   "metadata": {
    "executionInfo": {
     "elapsed": 143,
     "status": "ok",
     "timestamp": 1634584340558,
     "user": {
      "displayName": "Ethan Jackson",
      "photoUrl": "https://lh3.googleusercontent.com/a-/AOh14Gj0sN-qIkLWaD3gNaMMx-oLuegd5o3MGlU94qG9IQ=s64",
      "userId": "16234263294244605206"
     },
     "user_tz": 240
    },
    "id": "AVVQph3qP-d7"
   },
   "outputs": [],
   "source": [
    "def rmse(y_true, y_pred):\n",
    "    return np.sqrt(mean_squared_error(y_true, y_pred))\n",
    "\n",
    "metrics = {\n",
    "    'r2_score': r2_score,\n",
    "    'mae': mean_absolute_error,\n",
    "    'mape': mean_absolute_percentage_error,\n",
    "    'mse': mean_squared_error,\n",
    "    'rmse': rmse\n",
    "}\n",
    "\n"
   ]
  },
  {
   "cell_type": "markdown",
   "id": "hidden-spouse",
   "metadata": {},
   "source": [
    "## Fit Models and Evaluate Models for All CPI Categories\n",
    "\n",
    "Fit a model using data up to the `report_sim_date` and use it to produce forecasts for the following 18 months. Collect evaluation metrics for comparison and save the forecasts for use in the ensembling experiments."
   ]
  },
  {
   "cell_type": "markdown",
   "id": "fa133791-f18e-400d-b649-55373341b531",
   "metadata": {},
   "source": [
    "Use ParameterGrid for Hyperparameter tuning."
   ]
  },
  {
   "cell_type": "code",
   "execution_count": null,
   "id": "9dcd9a70-f33e-4d95-ab5c-dc3b21ac6661",
   "metadata": {},
   "outputs": [],
   "source": [
    "params_grid = {'n_forecasts':[18],\n",
    "              'n_lags':[24, 36, 48, 60]}\n",
    "\n",
    "# TESTING WITH REDUCED PARAMS\n",
    "params_grid = {'n_forecasts':[18],\n",
    "              'n_lags':[24]}\n",
    "data_sources = ['DEXCAUS']\n",
    "\n",
    "grid = ParameterGrid(params_grid)\n",
    "cnt = 0\n",
    "for p in grid:\n",
    "    cnt = cnt+1\n",
    "print('Total Possible Models',cnt)"
   ]
  },
  {
   "cell_type": "code",
   "execution_count": null,
   "id": "international-latex",
   "metadata": {
    "colab": {
     "base_uri": "https://localhost:8080/",
     "height": 1000
    },
    "executionInfo": {
     "elapsed": 9960613,
     "status": "ok",
     "timestamp": 1634600449715,
     "user": {
      "displayName": "Ethan Jackson",
      "photoUrl": "https://lh3.googleusercontent.com/a-/AOh14Gj0sN-qIkLWaD3gNaMMx-oLuegd5o3MGlU94qG9IQ=s64",
      "userId": "16234263294244605206"
     },
     "user_tz": 240
    },
    "id": "HPi4At6gT26Q",
    "outputId": "3d99832f-f9e2-4b1f-d6c0-1499c8468464",
    "tags": []
   },
   "outputs": [],
   "source": [
    "all_output_paths = []\n",
    "all_valid_metrics = {}\n",
    "all_forecasts = {}\n",
    "for var in data_sources:\n",
    "    for p in grid:\n",
    "        details = str(var) + '_nlags_' + str(p['n_lags'])\n",
    "        output_path = './output/neuralprophet_TEST_' + details\n",
    "        if not os.path.exists(output_path):\n",
    "            print(\"new directory created: \", output_path)\n",
    "            os.mkdir(output_path)\n",
    "        else:\n",
    "            print(\"directory already exists, skipping\")\n",
    "            continue\n",
    "        all_output_paths.append(output_path)\n",
    "        \n",
    "        \n",
    "        for food_category in foodprice_df.columns[:9]:\n",
    "            \n",
    "            annual_valid_metrics = {}\n",
    "            annual_forecasts = {}\n",
    "                        \n",
    "            for date in report_sim_dates:\n",
    "                \n",
    "                train_dates = sim_train_dates[date]\n",
    "                valid_dates = sim_valid_dates[date]\n",
    "                \n",
    "                \n",
    "                train_model =NeuralProphet(n_forecasts = p['n_forecasts'],                          #initialize model\n",
    "                                           n_lags = p['n_lags'])\n",
    "                train_df = get_neuralprophet_df(foodprice_df, food_category, train_dates, str(var)) #select data\n",
    "                train_model = train_model.add_lagged_regressor(names=[str(var)])                   #lagged regressor to model\n",
    "                train_model.fit(train_df, freq='MS')                                              #fit the model\n",
    "                \n",
    "                \n",
    "                future = train_model.make_future_dataframe(train_df, periods=18)                #create the future period\n",
    "                forecast = train_model.predict(future)                                        #produce the future period forecast\n",
    "                \n",
    "                \n",
    "                all_yhats = []\n",
    "                for yhat in [\"yhat\" + str(i) for i in range(1,19)]:\n",
    "                    all_yhats.append((forecast.loc[forecast[yhat].first_valid_index()][yhat]))  #get all yhats from forecast\n",
    "\n",
    "                \n",
    "                valid_df = get_neuralprophet_df(foodprice_df, food_category, valid_dates, str(var))\n",
    "                \n",
    "                ##special case for 2020 forecast\n",
    "                if len(valid_df) == 14:\n",
    "                    all_yhats = all_yhats[:-4]\n",
    "                    \n",
    "                ##special case\n",
    "                if len(valid_df) == 15:\n",
    "                    all_yhats = all_yhats[:-3]\n",
    "                \n",
    "                ## compute valid metrics\n",
    "                valid_metrics = {metric_name: metric_fn(y_true=valid_df.y, y_pred=all_yhats) for metric_name, metric_fn in metrics.items()}\n",
    "                valid_metrics_series = pd.Series(valid_metrics)\n",
    "                \n",
    "                annual_valid_metrics[date] = pd.DataFrame(valid_metrics_series).mean(axis=1)\n",
    "                annual_forecasts[date] = pd.Series(all_yhats)\n",
    "                            \n",
    "            \n",
    "                # break ### loop for dates \n",
    "                \n",
    "            all_valid_metrics[(output_path, food_category)] = annual_valid_metrics\n",
    "            all_forecasts[(output_path, food_category)] = annual_forecasts\n",
    "                \n",
    "            mean_valid_metrics = {}\n",
    "            for (output_path,food_category), valid_scores in all_valid_metrics.items():\n",
    "                mean_valid_metrics[food_category] = pd.DataFrame(valid_scores).mean(axis=1)\n",
    "\n",
    "            mean_valid_metrics_df = pd.DataFrame(mean_valid_metrics).T\n",
    "            mean_valid_metrics_df.to_csv(f\"{output_path}/mean_fc_valid_metrics.csv\")\n",
    "        \n",
    "            # break ## loop for food category\n",
    "        \n",
    "        # break ## loop for n_lags\n",
    "\n",
    "    # break ##loop for lagged regressors\n",
    "\n"
   ]
  },
  {
   "cell_type": "markdown",
   "id": "0a460b94-3a45-41ec-b4cd-ac2a955f2466",
   "metadata": {},
   "source": [
    "## Save Validation Forecasts to File (For Ensembling)\n"
   ]
  },
  {
   "cell_type": "code",
   "execution_count": null,
   "id": "bc691936-111f-47de-abe2-cbb98cd1dee3",
   "metadata": {},
   "outputs": [],
   "source": [
    "date_forecasts = {}\n",
    "for date in report_sim_dates:\n",
    "    valid_dates = sim_valid_dates[date]\n",
    "    food_forecasts = {}\n",
    "    for my_output_path in all_output_paths:\n",
    "        for food_category in foodprice_categories:\n",
    "            food_forecasts[food_category] = all_forecasts[(my_output_path,food_category)][date]\n",
    "        date_forecasts[date] = pd.DataFrame(food_forecasts)\n",
    "        date_forecasts[date] = date_forecasts[date].set_index(pd.DatetimeIndex(valid_dates))\n",
    "        date_forecasts[date].to_csv(f\"{my_output_path}/forecasts_{date}.csv\")"
   ]
  },
  {
   "cell_type": "code",
   "execution_count": null,
   "id": "b6a40ec5",
   "metadata": {},
   "outputs": [],
   "source": []
  }
 ],
 "metadata": {
  "accelerator": "GPU",
  "colab": {
   "collapsed_sections": [],
   "name": "forecasting-nbeats.ipynb",
   "provenance": [
    {
     "file_id": "13Kkg9losPuncpwDUvLml777Pax3pP2FG",
     "timestamp": 1634321819792
    }
   ]
  },
  "interpreter": {
   "hash": "d7359b97dda1a7a8948a5a4d396848125c7f44b4c1a886dc629ec440a49e68ef"
  },
  "kernelspec": {
   "display_name": "Python 3 (ipykernel)",
   "language": "python",
   "name": "python3"
  },
  "language_info": {
   "codemirror_mode": {
    "name": "ipython",
    "version": 3
   },
   "file_extension": ".py",
   "mimetype": "text/x-python",
   "name": "python",
   "nbconvert_exporter": "python",
   "pygments_lexer": "ipython3",
   "version": "3.9.7"
  }
 },
 "nbformat": 4,
 "nbformat_minor": 5
}
